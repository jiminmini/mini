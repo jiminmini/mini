{
  "nbformat": 4,
  "nbformat_minor": 0,
  "metadata": {
    "colab": {
      "provenance": [],
      "authorship_tag": "ABX9TyNiQN06/c1nNk+siKPq8vHj",
      "include_colab_link": true
    },
    "kernelspec": {
      "name": "python3",
      "display_name": "Python 3"
    },
    "language_info": {
      "name": "python"
    }
  },
  "cells": [
    {
      "cell_type": "markdown",
      "metadata": {
        "id": "view-in-github",
        "colab_type": "text"
      },
      "source": [
        "<a href=\"https://colab.research.google.com/github/jiminmini/mini/blob/main/5_16_%EC%88%98%EC%83%81%EC%9E%91_%EB%A6%AC%EB%B7%B0_%EA%B3%BC%EC%A0%9C.ipynb\" target=\"_parent\"><img src=\"https://colab.research.google.com/assets/colab-badge.svg\" alt=\"Open In Colab\"/></a>"
      ]
    },
    {
      "cell_type": "markdown",
      "source": [
        "#**[주제 및 데이터]**\n",
        "**주제**: 신용카드 사용자 연체 예측을 위한 금융 데이터 기반 머신러닝 모델 개발\n",
        "\n",
        "**데이터 설명**:\n",
        "\n",
        "- 신용카드 사용자 개인별 금융거래 및 신용정보 데이터\n",
        "\n",
        "- 변수: 연체 여부, 이용 금액, 신용 등급, 거래 내역, 인구통계학적 정보 등\n",
        "\n",
        "- 목적: 사용자의 연체 가능성을 예측하여 리스크 관리를 지원\n",
        "\n",
        "\n",
        "\n",
        "\n",
        "\n",
        "\n",
        "---\n",
        "\n",
        "\n",
        "#**[코드 리뷰]**\n",
        "**1. EDA (탐색적 데이터 분석)**\n",
        "\n",
        "- 결측치 및 이상치 확인, 변수 분포 시각화 수행\n",
        "\n",
        "- 연체 사용자와 정상 사용자 그룹 간 주요 변수 차이 분석\n",
        "\n",
        "- 변수 간 상관관계 분석으로 중요 변수 도출\n",
        "\n",
        "\n",
        "\n",
        "---\n",
        "\n",
        "\n",
        "**2. 전처리**\n",
        "\n",
        "- 결측치 처리: 평균/중앙값 대체 및 이상치 제거\n",
        "\n",
        "- 범주형 변수 인코딩 (One-hot encoding 등)\n",
        "\n",
        "- 변수 스케일링 (StandardScaler 또는 MinMaxScaler 적용)\n",
        "\n",
        "- 데이터 불균형 해결을 위한 샘플링 기법 적용 (예: SMOTE)\n",
        "\n",
        "\n",
        "\n",
        "---\n",
        "\n",
        "\n",
        "\n",
        "**3. 모델링 (Modeling)**\n",
        "\n",
        "- 다양한 분류 모델 실험 (랜덤포레스트, XGBoost, LightGBM 등)\n",
        "\n",
        "- 하이퍼파라미터 튜닝으로 모델 성능 최적화\n",
        "\n",
        "- 교차 검증을 통한 모델 안정성 평가\n",
        "\n",
        "- 최종 앙상블 모델 구성으로 예측 정확도 향상\n",
        "\n",
        "\n",
        "\n",
        "---\n",
        "#**[차별 점 및 배울 점]**\n",
        "\n",
        "**✅ 차별점**\n",
        "- 금융 도메인 특성을 고려한 변수 엔지니어링 적용\n",
        "\n",
        "- 불균형 데이터 문제에 대한 적극적 대응으로 모델 성능 극대화\n",
        "\n",
        "- 앙상블 모델 및 하이퍼파라미터 최적화 기법을 효과적으로 활용\n",
        "\n",
        "**📘 배울 점**\n",
        "- 철저한 EDA를 통한 데이터 특성 파악의 중요성\n",
        "\n",
        "- 데이터 전처리 단계에서 다양한 기법을 조합하여 최적화하는 방법\n",
        "\n",
        "- 여러 모델을 비교하고 앙상블을 통해 안정적인 성능 확보\n",
        "\n",
        "- 금융 데이터 분석에 특화된 변수 선택과 해석 방법\n",
        "\n"
      ],
      "metadata": {
        "id": "w5oYmjhR0FuN"
      }
    }
  ]
}