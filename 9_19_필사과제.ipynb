{
  "nbformat": 4,
  "nbformat_minor": 0,
  "metadata": {
    "colab": {
      "provenance": [],
      "include_colab_link": true
    },
    "kernelspec": {
      "name": "python3",
      "display_name": "Python 3"
    },
    "language_info": {
      "name": "python"
    }
  },
  "cells": [
    {
      "cell_type": "markdown",
      "metadata": {
        "id": "view-in-github",
        "colab_type": "text"
      },
      "source": [
        "<a href=\"https://colab.research.google.com/github/jiminmini/mini/blob/main/9_19_%ED%95%84%EC%82%AC%EA%B3%BC%EC%A0%9C.ipynb\" target=\"_parent\"><img src=\"https://colab.research.google.com/assets/colab-badge.svg\" alt=\"Open In Colab\"/></a>"
      ]
    },
    {
      "cell_type": "markdown",
      "source": [
        "#**[개념 정리]**\n",
        "\n",
        "##**[가우시안 혼합]**\n",
        "- 샘플이 파라미터가 알려지지 않은 여러 개의 혼합된 가우시안 분포에서 생성되었다고 가정하는 확률 모델\n",
        "\n",
        "##**[가우시안 혼합을 사용한 이상치 탐지]**\n",
        "- 밀도 임곗값 설정\n",
        "- 특이치 탐지와 유사\n",
        "\n",
        "\n",
        "##**[클러스터 개수 선택하기]**\n",
        "- BIC나 AIC와 같은 이론적 정보 기준을 최소화하는 모델 찾기\n",
        "- 가능도 함수\n",
        "\n",
        "\n",
        "##**[베이즈 가우시안 혼합 모델]**\n",
        "- 베타 분포: 고정 범위 안에 놓인 값을 가진 확률 변수를 모델링할 때 자주 사용\n",
        "\n",
        "- 블랙박스 확률적 변분 추론: ELBO를 최대화하는 간단한 방법"
      ],
      "metadata": {
        "id": "tlf8M-vjZSTw"
      }
    },
    {
      "cell_type": "markdown",
      "source": [
        "#**[코드 필사]**"
      ],
      "metadata": {
        "id": "7EZ4X-agZUIO"
      }
    },
    {
      "cell_type": "code",
      "source": [
        "from sklearn.mixture import GaussianMixture\n",
        "gm=GaussianMixture(n_components=3, n_init=10)\n",
        "gm.fit(x)"
      ],
      "metadata": {
        "id": "vIV4LECcZWTL",
        "colab": {
          "base_uri": "https://localhost:8080/",
          "height": 80
        },
        "outputId": "e1bfaa03-a6f1-47b6-a8b7-7ecb6fdbdf80"
      },
      "execution_count": null,
      "outputs": [
        {
          "output_type": "execute_result",
          "data": {
            "text/plain": [
              "GaussianMixture(n_components=3, n_init=10)"
            ],
            "text/html": [
              "<style>#sk-container-id-14 {\n",
              "  /* Definition of color scheme common for light and dark mode */\n",
              "  --sklearn-color-text: #000;\n",
              "  --sklearn-color-text-muted: #666;\n",
              "  --sklearn-color-line: gray;\n",
              "  /* Definition of color scheme for unfitted estimators */\n",
              "  --sklearn-color-unfitted-level-0: #fff5e6;\n",
              "  --sklearn-color-unfitted-level-1: #f6e4d2;\n",
              "  --sklearn-color-unfitted-level-2: #ffe0b3;\n",
              "  --sklearn-color-unfitted-level-3: chocolate;\n",
              "  /* Definition of color scheme for fitted estimators */\n",
              "  --sklearn-color-fitted-level-0: #f0f8ff;\n",
              "  --sklearn-color-fitted-level-1: #d4ebff;\n",
              "  --sklearn-color-fitted-level-2: #b3dbfd;\n",
              "  --sklearn-color-fitted-level-3: cornflowerblue;\n",
              "\n",
              "  /* Specific color for light theme */\n",
              "  --sklearn-color-text-on-default-background: var(--sg-text-color, var(--theme-code-foreground, var(--jp-content-font-color1, black)));\n",
              "  --sklearn-color-background: var(--sg-background-color, var(--theme-background, var(--jp-layout-color0, white)));\n",
              "  --sklearn-color-border-box: var(--sg-text-color, var(--theme-code-foreground, var(--jp-content-font-color1, black)));\n",
              "  --sklearn-color-icon: #696969;\n",
              "\n",
              "  @media (prefers-color-scheme: dark) {\n",
              "    /* Redefinition of color scheme for dark theme */\n",
              "    --sklearn-color-text-on-default-background: var(--sg-text-color, var(--theme-code-foreground, var(--jp-content-font-color1, white)));\n",
              "    --sklearn-color-background: var(--sg-background-color, var(--theme-background, var(--jp-layout-color0, #111)));\n",
              "    --sklearn-color-border-box: var(--sg-text-color, var(--theme-code-foreground, var(--jp-content-font-color1, white)));\n",
              "    --sklearn-color-icon: #878787;\n",
              "  }\n",
              "}\n",
              "\n",
              "#sk-container-id-14 {\n",
              "  color: var(--sklearn-color-text);\n",
              "}\n",
              "\n",
              "#sk-container-id-14 pre {\n",
              "  padding: 0;\n",
              "}\n",
              "\n",
              "#sk-container-id-14 input.sk-hidden--visually {\n",
              "  border: 0;\n",
              "  clip: rect(1px 1px 1px 1px);\n",
              "  clip: rect(1px, 1px, 1px, 1px);\n",
              "  height: 1px;\n",
              "  margin: -1px;\n",
              "  overflow: hidden;\n",
              "  padding: 0;\n",
              "  position: absolute;\n",
              "  width: 1px;\n",
              "}\n",
              "\n",
              "#sk-container-id-14 div.sk-dashed-wrapped {\n",
              "  border: 1px dashed var(--sklearn-color-line);\n",
              "  margin: 0 0.4em 0.5em 0.4em;\n",
              "  box-sizing: border-box;\n",
              "  padding-bottom: 0.4em;\n",
              "  background-color: var(--sklearn-color-background);\n",
              "}\n",
              "\n",
              "#sk-container-id-14 div.sk-container {\n",
              "  /* jupyter's `normalize.less` sets `[hidden] { display: none; }`\n",
              "     but bootstrap.min.css set `[hidden] { display: none !important; }`\n",
              "     so we also need the `!important` here to be able to override the\n",
              "     default hidden behavior on the sphinx rendered scikit-learn.org.\n",
              "     See: https://github.com/scikit-learn/scikit-learn/issues/21755 */\n",
              "  display: inline-block !important;\n",
              "  position: relative;\n",
              "}\n",
              "\n",
              "#sk-container-id-14 div.sk-text-repr-fallback {\n",
              "  display: none;\n",
              "}\n",
              "\n",
              "div.sk-parallel-item,\n",
              "div.sk-serial,\n",
              "div.sk-item {\n",
              "  /* draw centered vertical line to link estimators */\n",
              "  background-image: linear-gradient(var(--sklearn-color-text-on-default-background), var(--sklearn-color-text-on-default-background));\n",
              "  background-size: 2px 100%;\n",
              "  background-repeat: no-repeat;\n",
              "  background-position: center center;\n",
              "}\n",
              "\n",
              "/* Parallel-specific style estimator block */\n",
              "\n",
              "#sk-container-id-14 div.sk-parallel-item::after {\n",
              "  content: \"\";\n",
              "  width: 100%;\n",
              "  border-bottom: 2px solid var(--sklearn-color-text-on-default-background);\n",
              "  flex-grow: 1;\n",
              "}\n",
              "\n",
              "#sk-container-id-14 div.sk-parallel {\n",
              "  display: flex;\n",
              "  align-items: stretch;\n",
              "  justify-content: center;\n",
              "  background-color: var(--sklearn-color-background);\n",
              "  position: relative;\n",
              "}\n",
              "\n",
              "#sk-container-id-14 div.sk-parallel-item {\n",
              "  display: flex;\n",
              "  flex-direction: column;\n",
              "}\n",
              "\n",
              "#sk-container-id-14 div.sk-parallel-item:first-child::after {\n",
              "  align-self: flex-end;\n",
              "  width: 50%;\n",
              "}\n",
              "\n",
              "#sk-container-id-14 div.sk-parallel-item:last-child::after {\n",
              "  align-self: flex-start;\n",
              "  width: 50%;\n",
              "}\n",
              "\n",
              "#sk-container-id-14 div.sk-parallel-item:only-child::after {\n",
              "  width: 0;\n",
              "}\n",
              "\n",
              "/* Serial-specific style estimator block */\n",
              "\n",
              "#sk-container-id-14 div.sk-serial {\n",
              "  display: flex;\n",
              "  flex-direction: column;\n",
              "  align-items: center;\n",
              "  background-color: var(--sklearn-color-background);\n",
              "  padding-right: 1em;\n",
              "  padding-left: 1em;\n",
              "}\n",
              "\n",
              "\n",
              "/* Toggleable style: style used for estimator/Pipeline/ColumnTransformer box that is\n",
              "clickable and can be expanded/collapsed.\n",
              "- Pipeline and ColumnTransformer use this feature and define the default style\n",
              "- Estimators will overwrite some part of the style using the `sk-estimator` class\n",
              "*/\n",
              "\n",
              "/* Pipeline and ColumnTransformer style (default) */\n",
              "\n",
              "#sk-container-id-14 div.sk-toggleable {\n",
              "  /* Default theme specific background. It is overwritten whether we have a\n",
              "  specific estimator or a Pipeline/ColumnTransformer */\n",
              "  background-color: var(--sklearn-color-background);\n",
              "}\n",
              "\n",
              "/* Toggleable label */\n",
              "#sk-container-id-14 label.sk-toggleable__label {\n",
              "  cursor: pointer;\n",
              "  display: flex;\n",
              "  width: 100%;\n",
              "  margin-bottom: 0;\n",
              "  padding: 0.5em;\n",
              "  box-sizing: border-box;\n",
              "  text-align: center;\n",
              "  align-items: start;\n",
              "  justify-content: space-between;\n",
              "  gap: 0.5em;\n",
              "}\n",
              "\n",
              "#sk-container-id-14 label.sk-toggleable__label .caption {\n",
              "  font-size: 0.6rem;\n",
              "  font-weight: lighter;\n",
              "  color: var(--sklearn-color-text-muted);\n",
              "}\n",
              "\n",
              "#sk-container-id-14 label.sk-toggleable__label-arrow:before {\n",
              "  /* Arrow on the left of the label */\n",
              "  content: \"▸\";\n",
              "  float: left;\n",
              "  margin-right: 0.25em;\n",
              "  color: var(--sklearn-color-icon);\n",
              "}\n",
              "\n",
              "#sk-container-id-14 label.sk-toggleable__label-arrow:hover:before {\n",
              "  color: var(--sklearn-color-text);\n",
              "}\n",
              "\n",
              "/* Toggleable content - dropdown */\n",
              "\n",
              "#sk-container-id-14 div.sk-toggleable__content {\n",
              "  max-height: 0;\n",
              "  max-width: 0;\n",
              "  overflow: hidden;\n",
              "  text-align: left;\n",
              "  /* unfitted */\n",
              "  background-color: var(--sklearn-color-unfitted-level-0);\n",
              "}\n",
              "\n",
              "#sk-container-id-14 div.sk-toggleable__content.fitted {\n",
              "  /* fitted */\n",
              "  background-color: var(--sklearn-color-fitted-level-0);\n",
              "}\n",
              "\n",
              "#sk-container-id-14 div.sk-toggleable__content pre {\n",
              "  margin: 0.2em;\n",
              "  border-radius: 0.25em;\n",
              "  color: var(--sklearn-color-text);\n",
              "  /* unfitted */\n",
              "  background-color: var(--sklearn-color-unfitted-level-0);\n",
              "}\n",
              "\n",
              "#sk-container-id-14 div.sk-toggleable__content.fitted pre {\n",
              "  /* unfitted */\n",
              "  background-color: var(--sklearn-color-fitted-level-0);\n",
              "}\n",
              "\n",
              "#sk-container-id-14 input.sk-toggleable__control:checked~div.sk-toggleable__content {\n",
              "  /* Expand drop-down */\n",
              "  max-height: 200px;\n",
              "  max-width: 100%;\n",
              "  overflow: auto;\n",
              "}\n",
              "\n",
              "#sk-container-id-14 input.sk-toggleable__control:checked~label.sk-toggleable__label-arrow:before {\n",
              "  content: \"▾\";\n",
              "}\n",
              "\n",
              "/* Pipeline/ColumnTransformer-specific style */\n",
              "\n",
              "#sk-container-id-14 div.sk-label input.sk-toggleable__control:checked~label.sk-toggleable__label {\n",
              "  color: var(--sklearn-color-text);\n",
              "  background-color: var(--sklearn-color-unfitted-level-2);\n",
              "}\n",
              "\n",
              "#sk-container-id-14 div.sk-label.fitted input.sk-toggleable__control:checked~label.sk-toggleable__label {\n",
              "  background-color: var(--sklearn-color-fitted-level-2);\n",
              "}\n",
              "\n",
              "/* Estimator-specific style */\n",
              "\n",
              "/* Colorize estimator box */\n",
              "#sk-container-id-14 div.sk-estimator input.sk-toggleable__control:checked~label.sk-toggleable__label {\n",
              "  /* unfitted */\n",
              "  background-color: var(--sklearn-color-unfitted-level-2);\n",
              "}\n",
              "\n",
              "#sk-container-id-14 div.sk-estimator.fitted input.sk-toggleable__control:checked~label.sk-toggleable__label {\n",
              "  /* fitted */\n",
              "  background-color: var(--sklearn-color-fitted-level-2);\n",
              "}\n",
              "\n",
              "#sk-container-id-14 div.sk-label label.sk-toggleable__label,\n",
              "#sk-container-id-14 div.sk-label label {\n",
              "  /* The background is the default theme color */\n",
              "  color: var(--sklearn-color-text-on-default-background);\n",
              "}\n",
              "\n",
              "/* On hover, darken the color of the background */\n",
              "#sk-container-id-14 div.sk-label:hover label.sk-toggleable__label {\n",
              "  color: var(--sklearn-color-text);\n",
              "  background-color: var(--sklearn-color-unfitted-level-2);\n",
              "}\n",
              "\n",
              "/* Label box, darken color on hover, fitted */\n",
              "#sk-container-id-14 div.sk-label.fitted:hover label.sk-toggleable__label.fitted {\n",
              "  color: var(--sklearn-color-text);\n",
              "  background-color: var(--sklearn-color-fitted-level-2);\n",
              "}\n",
              "\n",
              "/* Estimator label */\n",
              "\n",
              "#sk-container-id-14 div.sk-label label {\n",
              "  font-family: monospace;\n",
              "  font-weight: bold;\n",
              "  display: inline-block;\n",
              "  line-height: 1.2em;\n",
              "}\n",
              "\n",
              "#sk-container-id-14 div.sk-label-container {\n",
              "  text-align: center;\n",
              "}\n",
              "\n",
              "/* Estimator-specific */\n",
              "#sk-container-id-14 div.sk-estimator {\n",
              "  font-family: monospace;\n",
              "  border: 1px dotted var(--sklearn-color-border-box);\n",
              "  border-radius: 0.25em;\n",
              "  box-sizing: border-box;\n",
              "  margin-bottom: 0.5em;\n",
              "  /* unfitted */\n",
              "  background-color: var(--sklearn-color-unfitted-level-0);\n",
              "}\n",
              "\n",
              "#sk-container-id-14 div.sk-estimator.fitted {\n",
              "  /* fitted */\n",
              "  background-color: var(--sklearn-color-fitted-level-0);\n",
              "}\n",
              "\n",
              "/* on hover */\n",
              "#sk-container-id-14 div.sk-estimator:hover {\n",
              "  /* unfitted */\n",
              "  background-color: var(--sklearn-color-unfitted-level-2);\n",
              "}\n",
              "\n",
              "#sk-container-id-14 div.sk-estimator.fitted:hover {\n",
              "  /* fitted */\n",
              "  background-color: var(--sklearn-color-fitted-level-2);\n",
              "}\n",
              "\n",
              "/* Specification for estimator info (e.g. \"i\" and \"?\") */\n",
              "\n",
              "/* Common style for \"i\" and \"?\" */\n",
              "\n",
              ".sk-estimator-doc-link,\n",
              "a:link.sk-estimator-doc-link,\n",
              "a:visited.sk-estimator-doc-link {\n",
              "  float: right;\n",
              "  font-size: smaller;\n",
              "  line-height: 1em;\n",
              "  font-family: monospace;\n",
              "  background-color: var(--sklearn-color-background);\n",
              "  border-radius: 1em;\n",
              "  height: 1em;\n",
              "  width: 1em;\n",
              "  text-decoration: none !important;\n",
              "  margin-left: 0.5em;\n",
              "  text-align: center;\n",
              "  /* unfitted */\n",
              "  border: var(--sklearn-color-unfitted-level-1) 1pt solid;\n",
              "  color: var(--sklearn-color-unfitted-level-1);\n",
              "}\n",
              "\n",
              ".sk-estimator-doc-link.fitted,\n",
              "a:link.sk-estimator-doc-link.fitted,\n",
              "a:visited.sk-estimator-doc-link.fitted {\n",
              "  /* fitted */\n",
              "  border: var(--sklearn-color-fitted-level-1) 1pt solid;\n",
              "  color: var(--sklearn-color-fitted-level-1);\n",
              "}\n",
              "\n",
              "/* On hover */\n",
              "div.sk-estimator:hover .sk-estimator-doc-link:hover,\n",
              ".sk-estimator-doc-link:hover,\n",
              "div.sk-label-container:hover .sk-estimator-doc-link:hover,\n",
              ".sk-estimator-doc-link:hover {\n",
              "  /* unfitted */\n",
              "  background-color: var(--sklearn-color-unfitted-level-3);\n",
              "  color: var(--sklearn-color-background);\n",
              "  text-decoration: none;\n",
              "}\n",
              "\n",
              "div.sk-estimator.fitted:hover .sk-estimator-doc-link.fitted:hover,\n",
              ".sk-estimator-doc-link.fitted:hover,\n",
              "div.sk-label-container:hover .sk-estimator-doc-link.fitted:hover,\n",
              ".sk-estimator-doc-link.fitted:hover {\n",
              "  /* fitted */\n",
              "  background-color: var(--sklearn-color-fitted-level-3);\n",
              "  color: var(--sklearn-color-background);\n",
              "  text-decoration: none;\n",
              "}\n",
              "\n",
              "/* Span, style for the box shown on hovering the info icon */\n",
              ".sk-estimator-doc-link span {\n",
              "  display: none;\n",
              "  z-index: 9999;\n",
              "  position: relative;\n",
              "  font-weight: normal;\n",
              "  right: .2ex;\n",
              "  padding: .5ex;\n",
              "  margin: .5ex;\n",
              "  width: min-content;\n",
              "  min-width: 20ex;\n",
              "  max-width: 50ex;\n",
              "  color: var(--sklearn-color-text);\n",
              "  box-shadow: 2pt 2pt 4pt #999;\n",
              "  /* unfitted */\n",
              "  background: var(--sklearn-color-unfitted-level-0);\n",
              "  border: .5pt solid var(--sklearn-color-unfitted-level-3);\n",
              "}\n",
              "\n",
              ".sk-estimator-doc-link.fitted span {\n",
              "  /* fitted */\n",
              "  background: var(--sklearn-color-fitted-level-0);\n",
              "  border: var(--sklearn-color-fitted-level-3);\n",
              "}\n",
              "\n",
              ".sk-estimator-doc-link:hover span {\n",
              "  display: block;\n",
              "}\n",
              "\n",
              "/* \"?\"-specific style due to the `<a>` HTML tag */\n",
              "\n",
              "#sk-container-id-14 a.estimator_doc_link {\n",
              "  float: right;\n",
              "  font-size: 1rem;\n",
              "  line-height: 1em;\n",
              "  font-family: monospace;\n",
              "  background-color: var(--sklearn-color-background);\n",
              "  border-radius: 1rem;\n",
              "  height: 1rem;\n",
              "  width: 1rem;\n",
              "  text-decoration: none;\n",
              "  /* unfitted */\n",
              "  color: var(--sklearn-color-unfitted-level-1);\n",
              "  border: var(--sklearn-color-unfitted-level-1) 1pt solid;\n",
              "}\n",
              "\n",
              "#sk-container-id-14 a.estimator_doc_link.fitted {\n",
              "  /* fitted */\n",
              "  border: var(--sklearn-color-fitted-level-1) 1pt solid;\n",
              "  color: var(--sklearn-color-fitted-level-1);\n",
              "}\n",
              "\n",
              "/* On hover */\n",
              "#sk-container-id-14 a.estimator_doc_link:hover {\n",
              "  /* unfitted */\n",
              "  background-color: var(--sklearn-color-unfitted-level-3);\n",
              "  color: var(--sklearn-color-background);\n",
              "  text-decoration: none;\n",
              "}\n",
              "\n",
              "#sk-container-id-14 a.estimator_doc_link.fitted:hover {\n",
              "  /* fitted */\n",
              "  background-color: var(--sklearn-color-fitted-level-3);\n",
              "}\n",
              "</style><div id=\"sk-container-id-14\" class=\"sk-top-container\"><div class=\"sk-text-repr-fallback\"><pre>GaussianMixture(n_components=3, n_init=10)</pre><b>In a Jupyter environment, please rerun this cell to show the HTML representation or trust the notebook. <br />On GitHub, the HTML representation is unable to render, please try loading this page with nbviewer.org.</b></div><div class=\"sk-container\" hidden><div class=\"sk-item\"><div class=\"sk-estimator fitted sk-toggleable\"><input class=\"sk-toggleable__control sk-hidden--visually\" id=\"sk-estimator-id-24\" type=\"checkbox\" checked><label for=\"sk-estimator-id-24\" class=\"sk-toggleable__label fitted sk-toggleable__label-arrow\"><div><div>GaussianMixture</div></div><div><a class=\"sk-estimator-doc-link fitted\" rel=\"noreferrer\" target=\"_blank\" href=\"https://scikit-learn.org/1.6/modules/generated/sklearn.mixture.GaussianMixture.html\">?<span>Documentation for GaussianMixture</span></a><span class=\"sk-estimator-doc-link fitted\">i<span>Fitted</span></span></div></label><div class=\"sk-toggleable__content fitted\"><pre>GaussianMixture(n_components=3, n_init=10)</pre></div> </div></div></div></div>"
            ]
          },
          "metadata": {},
          "execution_count": 84
        }
      ]
    },
    {
      "cell_type": "code",
      "source": [
        "gm.weights_"
      ],
      "metadata": {
        "id": "bhIhC2ydZYIV",
        "colab": {
          "base_uri": "https://localhost:8080/"
        },
        "outputId": "0fc3eb6a-c600-4781-dbeb-9bf659247ed8"
      },
      "execution_count": null,
      "outputs": [
        {
          "output_type": "execute_result",
          "data": {
            "text/plain": [
              "array([0.58444825, 0.2096565 , 0.20589525])"
            ]
          },
          "metadata": {},
          "execution_count": 85
        }
      ]
    },
    {
      "cell_type": "code",
      "source": [
        "gm.means_"
      ],
      "metadata": {
        "id": "Zgbcr-XNZYK1",
        "colab": {
          "base_uri": "https://localhost:8080/"
        },
        "outputId": "24ca1686-56cd-4b52-bfb7-fdb21a62b791"
      },
      "execution_count": null,
      "outputs": [
        {
          "output_type": "execute_result",
          "data": {
            "text/plain": [
              "array([[ 0.49662758,  0.25205688],\n",
              "       [ 1.72865309, -0.06805328],\n",
              "       [-0.74180549,  0.56922905]])"
            ]
          },
          "metadata": {},
          "execution_count": 86
        }
      ]
    },
    {
      "cell_type": "code",
      "source": [
        "gm.covariances_"
      ],
      "metadata": {
        "id": "YCJ3TiY4ZYMl",
        "colab": {
          "base_uri": "https://localhost:8080/"
        },
        "outputId": "e285102e-a1e0-4f5b-8cb1-99776f20989c"
      },
      "execution_count": null,
      "outputs": [
        {
          "output_type": "execute_result",
          "data": {
            "text/plain": [
              "array([[[ 0.16482018, -0.09496613],\n",
              "        [-0.09496613,  0.28419168]],\n",
              "\n",
              "       [[ 0.06018379,  0.06707337],\n",
              "        [ 0.06707337,  0.09137884]],\n",
              "\n",
              "       [[ 0.05588975,  0.06324128],\n",
              "        [ 0.06324128,  0.08663075]]])"
            ]
          },
          "metadata": {},
          "execution_count": 88
        }
      ]
    },
    {
      "cell_type": "code",
      "source": [
        "gm.converged_"
      ],
      "metadata": {
        "colab": {
          "base_uri": "https://localhost:8080/"
        },
        "id": "DKmDtvE21rFi",
        "outputId": "9c23e46e-76bd-490c-f0b2-84ebefdf9fe5"
      },
      "execution_count": null,
      "outputs": [
        {
          "output_type": "execute_result",
          "data": {
            "text/plain": [
              "True"
            ]
          },
          "metadata": {},
          "execution_count": 89
        }
      ]
    },
    {
      "cell_type": "code",
      "source": [
        "gm.n_iter_"
      ],
      "metadata": {
        "colab": {
          "base_uri": "https://localhost:8080/"
        },
        "id": "BXKK9r-r1rMR",
        "outputId": "5a4b1df5-5a8c-447b-83f1-f6acc1bc18c6"
      },
      "execution_count": null,
      "outputs": [
        {
          "output_type": "execute_result",
          "data": {
            "text/plain": [
              "16"
            ]
          },
          "metadata": {},
          "execution_count": 90
        }
      ]
    },
    {
      "cell_type": "code",
      "source": [
        "gm.predict(x)"
      ],
      "metadata": {
        "colab": {
          "base_uri": "https://localhost:8080/"
        },
        "id": "Aoqmkw0Q1rQn",
        "outputId": "17bb99db-a474-4594-95c5-35b64ecf8746"
      },
      "execution_count": null,
      "outputs": [
        {
          "output_type": "execute_result",
          "data": {
            "text/plain": [
              "array([0, 0, 1, 0, 0, 0, 0, 0, 0, 2, 2, 1, 1, 0, 0, 2, 1, 0, 1, 2, 2, 0,\n",
              "       1, 0, 0, 0, 0, 1, 2, 1, 2, 2, 2, 2, 2, 0, 0, 2, 2, 2, 0, 1, 0, 0,\n",
              "       1, 0, 0, 2, 0, 0, 2, 1, 0, 0, 0, 2, 0, 0, 0, 0, 1, 0, 0, 0, 1, 0,\n",
              "       2, 0, 0, 0, 0, 1, 0, 0, 0, 0, 1, 2, 0, 1, 0, 0, 1, 0, 1, 1, 0, 1,\n",
              "       1, 0, 0, 0, 1, 2, 1, 0, 0, 1, 1, 2, 2, 0, 0, 2, 0, 0, 1, 2, 1, 0,\n",
              "       0, 1, 1, 1, 0, 0, 0, 0, 0, 0, 1, 0, 0, 1, 2, 0, 0, 0, 0, 0, 0, 1,\n",
              "       0, 0, 2, 0, 0, 0, 1, 0, 2, 0, 0, 0, 0, 1, 0, 0, 2, 1, 0, 0, 2, 0,\n",
              "       0, 1, 0, 0, 0, 1, 0, 0, 0, 0, 0, 0, 0, 0, 0, 1, 1, 0, 0, 0, 0, 0,\n",
              "       0, 0, 0, 1, 0, 0, 2, 0, 0, 0, 1, 1, 0, 0, 0, 0, 2, 0, 1, 0, 1, 1,\n",
              "       2, 2, 1, 2, 0, 2, 2, 1, 2, 0, 1, 1, 1, 2, 2, 0, 0, 0, 2, 1, 1, 0,\n",
              "       1, 0, 0, 2, 2, 1, 0, 1, 0, 0, 2, 0, 1, 2, 2, 1, 0, 0, 1, 1, 0, 0,\n",
              "       1, 0, 0, 2, 2, 2, 0, 0, 0, 0, 0, 2, 0, 0, 0, 2, 1, 0, 0, 0, 0, 2,\n",
              "       2, 0, 1, 0, 2, 0, 1, 0, 2, 2, 1, 0, 0, 0, 0, 0, 0, 1, 2, 0, 0, 2,\n",
              "       0, 2, 0, 0, 1, 0, 0, 1, 1, 2, 2, 0, 2, 1, 1, 0, 2, 0, 1, 0, 1, 2,\n",
              "       1, 0, 0, 1, 1, 0, 0, 0, 0, 2, 2, 0, 2, 0, 2, 0, 1, 1, 0, 0, 1, 0,\n",
              "       0, 0, 2, 2, 0, 0, 0, 2, 0, 0, 1, 0, 0, 0, 2, 0, 1, 0, 2, 2, 2, 0,\n",
              "       0, 2, 1, 0, 2, 0, 0, 1, 0, 0, 1, 0, 0, 1, 2, 1, 0, 0, 0, 0, 0, 0,\n",
              "       0, 2, 1, 0, 0, 0, 0, 1, 2, 0, 0, 1, 0, 1, 0, 0, 2, 0, 0, 0, 0, 2,\n",
              "       0, 0, 2, 0, 0, 0, 2, 1, 0, 0, 1, 0, 2, 1, 2, 0, 0, 0, 2, 0, 0, 0,\n",
              "       0, 0, 2, 0, 0, 1, 1, 1, 1, 2, 0, 1, 1, 2, 0, 2, 2, 0, 0, 1, 0, 0,\n",
              "       0, 2, 0, 1, 0, 0, 2, 0, 0, 2, 2, 1, 0, 0, 0, 1, 0, 0, 0, 2, 1, 0,\n",
              "       0, 2, 0, 0, 1, 0, 1, 2, 2, 0, 0, 2, 1, 0, 0, 1, 1, 0, 2, 2, 0, 0,\n",
              "       2, 0, 1, 1, 0, 0, 1, 1, 0, 2, 0, 0, 0, 2, 1, 0, 0, 0, 0, 2, 0, 0,\n",
              "       2, 2, 0, 0, 0, 1, 2, 1, 1, 1, 0, 2, 0, 0, 0, 0, 2, 0, 0, 0, 2, 0,\n",
              "       1, 1, 0, 1, 1, 0, 1, 0, 0, 0, 0, 0, 1, 0, 1, 0, 1, 0, 0, 2, 2, 1,\n",
              "       1, 2, 2, 0, 0, 0, 0, 2, 0, 2, 0, 0, 1, 1, 1, 0, 0, 2, 0, 0, 1, 0,\n",
              "       2, 0, 0, 2, 1, 0, 1, 2, 2, 0, 0, 1, 0, 0, 2, 1, 0, 1, 0, 0, 0, 0,\n",
              "       1, 0, 1, 1, 2, 2, 0, 0, 0, 1, 2, 2, 1, 0, 1, 0, 0, 0, 2, 1, 0, 0,\n",
              "       0, 0, 0, 1, 0, 0, 0, 0, 0, 0, 0, 2, 0, 0, 0, 1, 1, 0, 0, 0, 0, 0,\n",
              "       0, 0, 0, 2, 1, 0, 0, 2, 0, 2, 0, 2, 0, 0, 0, 0, 2, 1, 0, 1, 0, 0,\n",
              "       0, 0, 1, 0, 0, 0, 0, 2, 0, 2, 2, 0, 1, 2, 1, 0, 0, 0, 0, 2, 2, 1,\n",
              "       0, 1, 0, 0, 2, 2, 0, 0, 0, 2, 0, 2, 0, 2, 1, 2, 2, 0, 1, 2, 2, 1,\n",
              "       0, 0, 0, 1, 0, 0, 2, 2, 0, 0, 0, 1, 2, 2, 2, 2, 0, 2, 0, 0, 0, 0,\n",
              "       0, 0, 0, 1, 1, 2, 0, 0, 0, 0, 1, 0, 1, 0, 0, 0, 0, 0, 2, 0, 2, 0,\n",
              "       0, 2, 2, 1, 0, 0, 0, 0, 0, 1, 2, 1, 0, 0, 2, 1, 1, 1, 0, 0, 0, 0,\n",
              "       1, 0, 0, 2, 0, 1, 0, 1, 0, 1, 0, 0, 1, 0, 0, 0, 2, 0, 0, 1, 0, 2,\n",
              "       2, 0, 2, 0, 1, 1, 0, 2, 0, 0, 0, 0, 0, 0, 1, 2, 0, 0, 1, 0, 0, 0,\n",
              "       0, 1, 2, 0, 1, 1, 1, 2, 0, 0, 0, 1, 2, 0, 1, 1, 0, 2, 0, 0, 1, 0,\n",
              "       0, 0, 0, 0, 1, 2, 2, 0, 0, 0, 0, 0, 0, 2, 1, 0, 0, 0, 0, 2, 0, 1,\n",
              "       2, 0, 0, 1, 0, 0, 0, 0, 0, 1, 0, 0, 0, 0, 0, 0, 0, 2, 0, 0, 1, 0,\n",
              "       0, 1, 1, 2, 1, 0, 0, 2, 0, 2, 1, 0, 0, 0, 0, 0, 0, 1, 2, 0, 0, 0,\n",
              "       1, 2, 1, 0, 1, 2, 1, 0, 0, 0, 2, 0, 0, 0, 2, 2, 0, 0, 2, 2, 1, 2,\n",
              "       0, 0, 0, 2, 1, 2, 2, 0, 0, 0, 1, 0, 0, 0, 1, 0, 0, 2, 2, 0, 0, 0,\n",
              "       1, 0, 1, 1, 0, 2, 2, 0, 0, 0, 0, 0, 0, 0, 2, 1, 0, 0, 0, 1, 2, 0,\n",
              "       0, 0, 2, 2, 1, 0, 0, 1, 0, 2, 0, 2, 0, 0, 0, 0, 0, 0, 0, 0, 2, 0,\n",
              "       0, 0, 0, 2, 0, 0, 2, 2, 0, 0])"
            ]
          },
          "metadata": {},
          "execution_count": 91
        }
      ]
    },
    {
      "cell_type": "code",
      "source": [
        "gm.predict_proba(x)"
      ],
      "metadata": {
        "colab": {
          "base_uri": "https://localhost:8080/"
        },
        "id": "kJU_2cco1rTS",
        "outputId": "085cc4a1-88b2-44b3-cc1e-aa9d860bb0ec"
      },
      "execution_count": null,
      "outputs": [
        {
          "output_type": "execute_result",
          "data": {
            "text/plain": [
              "array([[6.79578641e-001, 7.87413523e-150, 3.20421359e-001],\n",
              "       [8.35799268e-001, 1.17633331e-144, 1.64200732e-001],\n",
              "       [2.19504585e-004, 9.99780495e-001, 4.05144401e-184],\n",
              "       ...,\n",
              "       [4.66170690e-004, 1.35706932e-158, 9.99533829e-001],\n",
              "       [1.00000000e+000, 3.31994249e-062, 6.44896827e-031],\n",
              "       [1.00000000e+000, 1.40101800e-074, 1.26337543e-022]])"
            ]
          },
          "metadata": {},
          "execution_count": 92
        }
      ]
    },
    {
      "cell_type": "code",
      "source": [
        "x_new,y_new=gm.sample(6)\n",
        "x_new"
      ],
      "metadata": {
        "colab": {
          "base_uri": "https://localhost:8080/"
        },
        "id": "HnPeMANW1rV2",
        "outputId": "681ec9c3-a690-496a-a291-3155c66a9e33"
      },
      "execution_count": null,
      "outputs": [
        {
          "output_type": "execute_result",
          "data": {
            "text/plain": [
              "array([[ 1.25002314, -0.11748496],\n",
              "       [ 0.30382379, -0.15389352],\n",
              "       [ 1.10934433,  0.55272113],\n",
              "       [ 1.69253132, -0.10550103],\n",
              "       [-0.55652609,  0.66583058],\n",
              "       [-0.799607  ,  0.33060903]])"
            ]
          },
          "metadata": {},
          "execution_count": 93
        }
      ]
    },
    {
      "cell_type": "code",
      "source": [
        "y_new"
      ],
      "metadata": {
        "colab": {
          "base_uri": "https://localhost:8080/"
        },
        "id": "YpTQXuc01rYk",
        "outputId": "468fbdac-052c-4cc8-bbe1-bdc1c4f9dace"
      },
      "execution_count": null,
      "outputs": [
        {
          "output_type": "execute_result",
          "data": {
            "text/plain": [
              "array([0, 0, 0, 1, 2, 2])"
            ]
          },
          "metadata": {},
          "execution_count": 94
        }
      ]
    },
    {
      "cell_type": "code",
      "source": [
        "gm.score_samples(x)"
      ],
      "metadata": {
        "colab": {
          "base_uri": "https://localhost:8080/"
        },
        "id": "Y-pD32SZ1rbE",
        "outputId": "54833364-677f-4b2f-cf2b-3e5c096ad98e"
      },
      "execution_count": null,
      "outputs": [
        {
          "output_type": "execute_result",
          "data": {
            "text/plain": [
              "array([-2.13674225e+00, -2.26587084e+00, -1.28626175e+00, -1.65780934e+00,\n",
              "       -2.12682172e+00, -2.19652065e+00, -2.10591778e+00, -1.92275276e+00,\n",
              "       -1.59209834e+00, -8.90857914e-01, -1.43103384e-01,  9.78388327e-03,\n",
              "       -1.73929414e+00, -1.66412551e+00, -1.71959858e+00, -5.02298770e-01,\n",
              "       -5.62178140e-01, -1.58458904e+00, -1.12906336e+00, -1.51008281e-03,\n",
              "        2.37697862e-03, -1.74764806e+00, -1.67370498e+00, -1.34101408e+00,\n",
              "       -1.75994978e+00, -1.56808633e+00, -1.75511237e+00, -2.99145234e-01,\n",
              "       -1.81060971e+00, -1.08435957e+00, -2.80829797e-01, -1.31567110e+00,\n",
              "       -6.65828603e-01, -1.31067709e-01, -1.75924515e+00, -1.43332282e+00,\n",
              "       -2.01370492e+00, -1.67834167e+00, -2.95376698e-01, -3.60899835e-01,\n",
              "       -1.90248914e+00, -4.93132297e-01, -1.90828670e+00, -1.55900416e+00,\n",
              "       -5.66001574e-01, -1.54527017e+00, -1.44310261e+00, -1.00676540e+00,\n",
              "       -1.42561704e+00, -1.79418632e+00, -8.13095437e-02, -1.33898075e+00,\n",
              "       -1.90201109e+00, -1.58816538e+00, -1.48401503e+00, -2.41423190e-02,\n",
              "       -1.64211747e+00, -1.54246815e+00, -1.63951265e+00, -1.77748497e+00,\n",
              "       -2.82782594e-01, -1.84703390e+00, -1.48874797e+00, -1.86641667e+00,\n",
              "       -2.89774728e-02, -1.92624232e+00, -1.89242833e+00, -1.57414493e+00,\n",
              "       -1.30539293e+00, -2.20838645e+00, -2.24029479e+00, -1.09511943e+00,\n",
              "       -1.68796092e+00, -1.64306769e+00, -1.35697466e+00, -1.63999103e+00,\n",
              "       -7.24075071e-01, -7.39438107e-01, -1.80798193e+00, -9.84242040e-01,\n",
              "       -1.60030954e+00, -2.22210410e+00, -3.31841474e-01, -1.87768030e+00,\n",
              "       -6.88176002e-01, -3.78478717e-01, -1.82222973e+00, -2.60103639e-01,\n",
              "       -2.42481766e-01, -2.16088305e+00, -1.76043847e+00, -2.13992720e+00,\n",
              "       -2.46841301e-01, -2.95044533e-01, -4.44983727e-01, -1.91211842e+00,\n",
              "       -1.57908322e+00, -4.35833664e-01, -2.06348325e-01, -1.08651747e+00,\n",
              "       -2.32729973e+00, -1.76537946e+00, -1.81953533e+00, -2.71861662e+00,\n",
              "       -1.57974179e+00, -1.52653422e+00, -1.31876195e+00,  1.02459121e-02,\n",
              "       -1.60292764e+00, -1.62584243e+00, -1.79093804e+00, -8.67091252e-01,\n",
              "       -8.51793186e-01, -8.56743681e-01, -1.65744269e+00, -1.77796334e+00,\n",
              "       -1.59674152e+00, -1.66838714e+00, -1.57869562e+00, -2.11749724e+00,\n",
              "       -1.28722102e+00, -1.72314253e+00, -2.08770704e+00, -2.26041273e-01,\n",
              "       -8.95920403e-02, -1.43798172e+00, -1.51164136e+00, -1.49394418e+00,\n",
              "       -1.57122644e+00, -1.72395976e+00, -1.83716044e+00, -1.85258953e+00,\n",
              "       -1.80339178e+00, -1.56624945e+00, -4.35904435e-02, -1.56953994e+00,\n",
              "       -1.51898096e+00, -1.46505635e+00, -6.00756402e-01, -1.46383693e+00,\n",
              "       -5.69921057e-01, -1.44520832e+00, -1.78707478e+00, -1.60710767e+00,\n",
              "       -1.39600388e+00, -2.68955977e+00, -1.73113663e+00, -1.78438305e+00,\n",
              "       -7.28937671e-01, -3.91716544e-01, -1.48674812e+00, -1.47855779e+00,\n",
              "       -3.13034331e+00, -1.47455424e+00, -1.58822908e+00, -2.11668209e-02,\n",
              "       -1.67986377e+00, -1.48897852e+00, -1.85625306e+00, -4.29662032e-01,\n",
              "       -1.70149304e+00, -1.48871529e+00, -2.13806471e+00, -1.93626946e+00,\n",
              "       -1.77675719e+00, -1.59895763e+00, -1.66324478e+00, -2.18560856e+00,\n",
              "       -1.58204562e+00, -1.03315143e+00, -1.12610479e+00, -1.62788346e+00,\n",
              "       -2.22179849e+00, -1.53851449e+00, -1.81405645e+00, -1.47566686e+00,\n",
              "       -1.56408868e+00, -1.63447265e+00, -1.94133810e+00, -7.88216208e-01,\n",
              "       -1.52782832e+00, -2.27763895e+00, -1.89220565e+00, -1.43981281e+00,\n",
              "       -1.69196455e+00, -1.81733842e+00, -2.64319863e-01, -5.44519746e-01,\n",
              "       -2.09468475e+00, -1.36913312e+00, -1.57224243e+00, -1.43130447e+00,\n",
              "        4.45668071e-02, -2.04835769e+00, -1.01631178e+00, -1.56632187e+00,\n",
              "       -1.87899311e-01, -1.30907935e+00, -1.15168733e+00, -3.26849026e-01,\n",
              "       -4.36486418e-01, -4.37413158e-01, -2.26341164e+00, -1.16809512e+00,\n",
              "       -2.20365460e-01, -2.55170330e+00, -2.86079238e+00, -1.76780890e+00,\n",
              "       -1.67432707e+00, -1.49602963e+00,  1.16176229e-02, -1.90392564e+00,\n",
              "       -7.73450203e-01, -1.69996268e+00, -1.73592214e+00, -1.59758819e+00,\n",
              "       -1.21559129e+00, -1.07664666e+00, -6.12618815e-01, -1.95377101e+00,\n",
              "       -1.56472085e+00, -1.64518485e+00, -1.54427293e+00, -2.47508951e-01,\n",
              "       -5.34199596e-01, -8.56361488e-01, -1.77063766e+00, -1.17936581e+00,\n",
              "       -1.73373290e+00, -1.60867838e+00, -8.18659863e-01, -1.98160468e+00,\n",
              "       -2.16152649e+00, -1.37386198e-01, -4.59071877e-01, -1.30859746e+00,\n",
              "       -2.18663760e+00, -1.65757118e+00, -3.29488021e-01, -8.75963788e-01,\n",
              "       -1.70402382e+00, -1.63130979e+00, -1.99589010e+00, -1.57548013e+00,\n",
              "       -1.52283493e+00, -4.64957708e-01, -3.68269228e-01, -6.20747241e-01,\n",
              "       -1.41909387e+00, -1.49993909e+00, -1.74085797e+00, -1.48318858e+00,\n",
              "       -1.59741993e+00, -7.57227040e-01, -2.14426426e+00, -1.52455871e+00,\n",
              "       -1.98544209e+00, -6.61309605e-01, -1.20712221e+00, -1.67351901e+00,\n",
              "       -1.66240237e+00, -1.56116398e+00, -1.82246607e+00, -8.06783734e-01,\n",
              "       -1.00244721e-01, -1.58290695e+00, -9.08512409e-01, -2.05890410e+00,\n",
              "       -3.53410596e-01, -1.59151737e+00, -1.05919535e-01, -1.97421334e+00,\n",
              "        8.15295449e-02, -6.43000445e-01, -8.84081384e-01, -1.83014822e+00,\n",
              "       -1.47119372e+00, -1.40722270e+00, -1.54102399e+00, -1.91172267e+00,\n",
              "       -2.20411741e+00, -2.74823283e+00, -1.25399114e+00, -2.02948571e+00,\n",
              "       -1.84963301e+00,  5.33752935e-02, -2.21433264e+00, -5.09953367e-01,\n",
              "       -1.90443818e+00, -1.51890232e+00, -7.38585809e-01, -1.55950197e+00,\n",
              "       -1.54807428e+00, -1.27936741e-01, -2.55975512e+00, -4.64397170e-01,\n",
              "       -6.17249457e-01, -1.73798803e+00, -1.70716343e+00, -3.83424479e-01,\n",
              "       -1.57344995e+00, -1.37247048e+00, -4.71536178e-01, -1.73646017e+00,\n",
              "       -2.64006669e+00, -1.61968218e+00, -1.84307481e-01, -1.08510377e+00,\n",
              "       -2.37197518e+00, -1.59317405e+00, -1.96440967e+00, -3.86247821e-01,\n",
              "       -1.27490815e+00, -2.18103553e+00, -1.64678162e+00, -1.47825994e+00,\n",
              "       -2.07349781e+00, -1.11155463e+00, -6.60070112e-01, -1.57968739e+00,\n",
              "       -1.43970695e+00, -1.74459662e+00,  3.26807421e-02, -2.24521201e+00,\n",
              "       -1.10611113e+00, -3.10921285e-01, -1.65766540e+00, -1.55228062e+00,\n",
              "       -1.57138979e+00, -1.71711621e+00, -1.59452904e+00, -2.07461268e+00,\n",
              "       -5.59257467e-01, -2.02481082e+00, -1.97000265e+00, -1.83465587e+00,\n",
              "       -1.40432140e+00, -2.57917203e-01, -2.05456035e+00, -1.40712557e+00,\n",
              "       -1.72053603e+00, -1.71052943e+00, -1.53023285e+00, -1.53285162e+00,\n",
              "       -3.93918221e-01, -1.60748672e+00, -1.52271762e+00, -1.17011981e+00,\n",
              "       -5.63409015e-01, -4.45306579e-02,  1.04797922e-01, -2.21250447e+00,\n",
              "       -1.79187289e+00, -1.45701170e-01, -6.37249146e-01, -1.72138848e+00,\n",
              "       -7.73221497e-01, -2.12411823e+00, -1.58757536e+00, -2.84055326e-01,\n",
              "       -1.99043687e+00, -1.61648688e+00, -1.23254045e+00, -1.40802671e+00,\n",
              "       -1.46149136e+00, -3.86486980e-01, -5.01463986e-01, -1.51804441e-02,\n",
              "       -1.79560776e+00, -1.82287659e+00, -1.40705401e+00, -1.65131744e+00,\n",
              "       -1.49850501e+00, -2.24446493e+00, -1.49828783e+00, -1.80426481e+00,\n",
              "       -1.12612290e-01, -1.52112870e+00, -1.66466187e+00, -1.61898618e+00,\n",
              "       -1.72267081e+00, -1.01442474e+00, -3.99310845e-01, -1.51372404e+00,\n",
              "       -2.23710624e+00, -6.75432796e-01, -1.66622467e+00, -1.52993120e+00,\n",
              "       -1.67139015e+00, -1.61545181e+00, -6.27228363e-01, -1.86286743e+00,\n",
              "       -1.84945316e+00, -1.42275880e+00, -1.52258398e+00, -6.48502163e-01,\n",
              "       -1.28634728e+00, -1.54325863e+00, -5.73828017e-02, -1.96541912e+00,\n",
              "       -1.48563686e+00, -2.01218473e+00, -1.87571602e+00, -2.96054274e-01,\n",
              "       -2.05112387e+00, -1.46065979e+00, -1.22178871e+00, -1.58523451e+00,\n",
              "       -1.91969244e+00, -2.58231194e-01, -1.57184123e+00, -1.53119755e+00,\n",
              "       -1.59989976e+00, -1.83253669e+00, -8.28266083e-01, -1.68945687e+00,\n",
              "       -1.56154965e+00, -1.29492334e+00, -1.38680301e+00, -1.60213847e+00,\n",
              "       -3.75906653e-02, -1.50642610e+00, -1.80527606e+00, -3.45280780e-01,\n",
              "       -2.10209573e-01, -1.24262562e-01, -3.85867335e-01, -5.53883640e-01,\n",
              "       -1.33755155e+00, -3.80908067e-01, -9.59380576e-01, -5.31261530e-01,\n",
              "       -1.88351794e+00, -8.38327789e-01, -1.89074048e+00, -1.35711635e+00,\n",
              "       -1.62746429e+00, -1.07794355e+00, -1.61232930e+00, -1.67738922e+00,\n",
              "       -1.73087610e+00, -5.11023928e-01, -1.39477904e+00, -2.32777096e-01,\n",
              "       -1.32356371e+00, -1.32158173e+00, -1.05746216e+00, -1.63437047e+00,\n",
              "       -1.57172958e+00, -5.40919942e-01, -1.46659184e+00, -6.40735112e-01,\n",
              "       -1.72539382e+00, -1.80042194e+00, -2.19007912e+00, -8.32751396e-01,\n",
              "       -1.73942580e+00, -1.76327097e+00, -1.47780033e+00, -2.70249555e+00,\n",
              "       -1.87164162e-01, -1.56712907e+00, -1.48123908e+00, -1.57491138e-01,\n",
              "       -1.88254233e+00, -1.57546278e+00, -4.66504903e-01, -1.21996439e+00,\n",
              "       -1.10736809e+00,  6.66697989e-02, -2.09222840e-01, -1.93682027e+00,\n",
              "       -1.42429466e+00, -4.41901179e-01, -1.46612461e+00, -2.02900622e+00,\n",
              "       -1.71845379e+00, -1.13155153e+00, -5.47797421e-01, -1.69406582e+00,\n",
              "       -1.69565170e+00, -2.01538939e-01, -1.31734992e+00, -1.56751064e+00,\n",
              "       -3.08672579e-01, -1.62295366e+00, -1.89714651e-01, -1.46127956e-01,\n",
              "       -1.62564767e+00, -1.68824840e+00, -9.78004461e-03, -2.16795690e+00,\n",
              "       -1.60544098e+00, -5.94924835e-01, -1.70843975e+00, -1.53099598e+00,\n",
              "       -1.49721406e+00, -1.95462980e-01, -7.77689974e-01, -2.13675647e+00,\n",
              "       -1.58194746e+00, -1.28325697e+00, -1.64891780e+00, -5.74621421e-01,\n",
              "       -1.41667508e+00, -1.50785554e+00, -1.28784034e+00, -1.21741407e-01,\n",
              "       -1.74182088e+00, -1.54528337e+00, -1.47274102e+00, -4.28868269e+00,\n",
              "       -3.61269313e-01, -1.08724267e+00, -2.24779268e-01, -1.21138470e+00,\n",
              "       -1.80038743e+00, -1.86172776e+00, -1.62028306e+00, -1.73497518e+00,\n",
              "       -1.51868499e+00, -1.49457177e+00, -1.99939098e+00, -1.54616214e+00,\n",
              "       -1.70274718e+00, -1.64174583e+00, -4.33241681e-01, -1.54267526e+00,\n",
              "       -4.85758419e-01, -1.19452167e+00, -1.80469050e+00, -9.21072429e-01,\n",
              "       -1.82776421e+00, -2.01900579e+00, -1.45785377e+00, -1.56009594e+00,\n",
              "       -1.50457923e+00, -1.56997921e+00, -1.43501369e+00, -1.43029986e+00,\n",
              "       -5.41302740e-01, -1.51612184e+00, -5.46236674e-01, -1.79258439e+00,\n",
              "       -1.12395871e+00, -1.61123078e+00, -1.37283802e+00, -6.93555710e-01,\n",
              "       -4.43123776e-01, -1.88853701e+00, -5.54637366e-01, -2.09235272e+00,\n",
              "       -4.94436823e-01, -1.37801297e+00, -1.52257273e+00, -1.82119183e+00,\n",
              "       -2.13706038e+00, -3.86267877e-02, -1.41823211e+00, -1.27651079e+00,\n",
              "       -1.56206080e+00, -2.01874716e+00, -1.57113304e-02, -3.23410470e-01,\n",
              "       -1.37343046e+00, -1.49774208e+00, -1.73570188e+00,  9.17234064e-02,\n",
              "       -1.90610663e+00, -1.66794815e+00, -1.68994903e+00, -1.29338601e+00,\n",
              "       -1.60835661e+00, -1.54209551e+00, -2.14307607e+00, -1.52314416e-02,\n",
              "       -3.82713794e-01, -1.72577896e+00, -1.11058516e+00, -1.48026618e+00,\n",
              "       -6.81606169e-01, -1.65803454e+00, -1.28766543e+00, -1.71363355e+00,\n",
              "       -1.75765046e+00, -1.58055729e+00, -3.42684541e-01, -6.29356463e-01,\n",
              "       -1.72770904e+00, -6.02382314e-01, -1.84077809e+00, -1.62499247e+00,\n",
              "       -1.83534186e+00, -1.86534759e+00, -1.32645595e-01, -1.57575458e+00,\n",
              "       -3.59703693e+00, -7.06281554e-01,  1.04884677e-01, -7.13989933e-01,\n",
              "       -1.72859736e+00, -1.56167533e+00, -1.93274609e+00, -6.78932613e-01,\n",
              "       -3.48823651e-01, -1.87515170e+00, -1.45204003e-01, -2.02501907e+00,\n",
              "       -1.35764661e+00, -1.81696202e+00, -1.41922660e+00, -2.22820632e+00,\n",
              "       -2.23402607e+00, -3.61490956e-01, -1.35775910e+00, -1.52489294e+00,\n",
              "       -1.51960889e+00, -1.51742100e+00, -1.56399799e+00, -2.27178979e-01,\n",
              "       -1.51271207e+00, -1.71330321e+00, -1.32404819e+00, -1.87869818e+00,\n",
              "       -1.51081851e+00, -1.17857424e+00, -1.54954238e+00, -2.44927551e+00,\n",
              "       -2.23783996e+00, -1.72999523e+00, -1.68644817e+00, -9.66729200e-01,\n",
              "       -3.16221078e-01, -1.19132710e+00, -1.40789614e+00, -1.67715362e+00,\n",
              "       -1.78610879e+00, -1.91427273e+00, -1.55856473e+00, -1.43470304e+00,\n",
              "       -1.52608747e+00, -1.95430458e+00, -1.75277640e+00, -1.71220883e+00,\n",
              "       -1.47073817e+00, -1.35766071e+00, -2.17320643e+00, -3.60152202e-01,\n",
              "       -1.51870522e+00, -3.69561035e-01, -1.97810683e+00, -1.60061636e+00,\n",
              "       -1.82083439e+00, -2.11472214e+00, -3.26312839e-01, -1.97875311e-02,\n",
              "       -1.55065792e+00, -5.92150897e-01, -1.55717532e+00, -1.45486960e+00,\n",
              "       -1.84663847e+00, -1.70207953e+00, -9.35948312e-01, -1.75320034e+00,\n",
              "       -1.69548641e+00, -1.55095412e+00, -1.59102583e+00, -1.60292940e+00,\n",
              "       -1.85802309e+00, -3.12882040e-01, -2.19068664e-01, -1.37286008e+00,\n",
              "       -3.11257010e-01, -1.33423946e+00, -9.72428203e-01, -1.40259413e+00,\n",
              "       -1.25820717e+00, -1.39185179e+00, -1.95551400e+00, -8.89381608e-01,\n",
              "        1.00732400e-01, -5.36636245e-01, -1.83126281e+00, -5.17441223e-01,\n",
              "       -1.30913798e+00, -1.29496907e+00, -8.08592075e-02, -9.57986978e-01,\n",
              "       -1.39840273e+00, -1.54348389e+00, -1.53630253e+00, -5.85392337e-01,\n",
              "       -1.66884519e+00, -1.41648701e+00, -1.84749296e+00, -6.92756927e-01,\n",
              "       -4.72072284e-01, -4.83221331e-01, -3.36337146e+00, -1.81309460e+00,\n",
              "       -9.44505468e-01, -3.22398252e-01, -2.52332337e+00, -5.96547314e-02,\n",
              "       -1.83166924e+00, -1.38968100e+00, -1.37264054e+00, -3.75049591e-01,\n",
              "       -1.80909859e+00, -1.43461454e+00, -5.89267716e-01, -2.11217641e-01,\n",
              "       -1.66204144e+00, -1.84514254e+00, -1.58069454e+00, -1.56421505e+00,\n",
              "       -5.89782543e-01, -1.47027831e+00, -3.87793518e-01,  7.40079733e-02,\n",
              "       -1.73340888e+00, -3.28474201e-01, -1.38236960e+00, -1.60363267e+00,\n",
              "       -1.63708677e+00, -1.69194275e+00, -2.13966640e+00, -1.50321002e+00,\n",
              "       -1.72539344e+00, -2.47909927e-01, -7.67583822e-01,  5.94216176e-02,\n",
              "       -1.50690826e+00, -2.00374661e+00, -1.33986303e+00, -2.20240620e+00,\n",
              "       -2.19718498e-01, -1.81562021e+00, -3.05811860e+00, -1.58601544e+00,\n",
              "       -1.75885740e+00, -1.69791086e+00, -1.65737625e+00, -1.64048134e+00,\n",
              "       -1.01916649e+00, -2.06072558e+00, -1.62863265e+00, -1.64359932e+00,\n",
              "       -1.68669335e+00, -1.28620880e+00, -1.51525595e+00, -1.02999618e+00,\n",
              "       -1.70557211e+00, -2.10583146e+00, -1.72044513e+00, -1.36990796e+00,\n",
              "       -1.59140713e+00, -2.34214219e-01, -8.28345076e-01, -1.97184001e-01,\n",
              "       -1.72382032e+00, -2.02052471e+00, -9.20598098e-01, -1.88008471e+00,\n",
              "       -1.32427630e+00,  1.86758632e-02, -2.21182123e+00, -1.71804043e+00,\n",
              "       -1.62158961e+00, -1.59959486e+00, -6.32415201e-01, -1.82489023e+00,\n",
              "       -1.52170005e+00, -1.06851689e+00, -1.76233453e+00, -7.19072318e-01,\n",
              "       -1.40034746e+00, -8.08231892e-01, -2.04778844e+00, -8.30997775e-01,\n",
              "       -2.16184054e+00, -1.56636272e+00, -2.51363427e+00, -1.42616838e+00,\n",
              "       -1.82570473e+00, -1.50049565e+00, -2.87019871e-02, -1.73066231e+00,\n",
              "       -1.78178127e+00, -1.09575613e-01, -2.18646938e+00, -4.56629637e-01,\n",
              "       -1.90966099e+00, -1.78140125e+00, -2.96610196e-01, -1.32686340e+00,\n",
              "       -3.14807550e+00, -6.05981514e-01, -2.15061473e+00, -1.58461996e-01,\n",
              "       -1.92547963e+00, -1.84424203e+00, -1.92100274e+00, -1.78927806e+00,\n",
              "       -1.42006936e+00, -2.03845277e+00, -8.75463019e-01, -1.36231471e+00,\n",
              "       -1.89309184e+00, -2.15949194e+00, -1.86415060e+00, -1.47670760e+00,\n",
              "       -1.75346492e+00, -1.84153135e+00, -1.85792907e+00, -4.29716801e-01,\n",
              "       -1.88834480e+00, -1.67975779e+00, -5.59775442e-01, -1.21736016e-01,\n",
              "       -6.44025261e-01, -6.60278857e-01, -2.18638730e+00, -1.53868598e+00,\n",
              "       -2.01776862e+00, -2.49741420e-01, -6.84856431e-02, -1.53804923e+00,\n",
              "       -5.50633986e-01, -4.45094157e-01, -1.66502945e+00, -4.56789189e-01,\n",
              "       -1.95502803e+00, -1.77708805e+00, -1.81148151e+00, -1.60481886e+00,\n",
              "       -1.44627207e+00, -1.22825271e+00, -1.51308034e+00, -1.64548094e+00,\n",
              "       -1.39989849e+00, -2.09758537e-01, -7.56519475e-01, -1.88755476e+00,\n",
              "       -1.70652129e+00, -1.75853702e+00, -1.41942198e+00, -1.38577465e+00,\n",
              "       -2.09988182e+00, -1.89976736e-01, -1.33682110e-01, -1.95326508e+00,\n",
              "       -2.14679322e+00, -1.53824041e+00, -1.67732575e+00, -6.08467166e-01,\n",
              "       -1.54005239e+00, -5.46960398e-01, -1.46064551e+00, -1.44272113e+00,\n",
              "       -1.79147873e+00, -1.12331028e+00, -1.36775705e+00, -1.51773997e+00,\n",
              "       -1.71168333e+00, -1.61956982e+00, -1.69998763e+00, -1.26423708e+00,\n",
              "       -1.54562222e+00, -1.43611551e+00, -1.54870184e+00, -1.92438242e+00,\n",
              "       -1.64429003e+00, -1.94922938e+00, -1.72422825e+00, -6.55874570e-02,\n",
              "       -2.16850431e+00, -2.05130257e+00, -3.55506173e-01, -1.89732007e+00,\n",
              "       -1.74429492e+00, -3.66811148e-01, -1.46148358e+00, -8.47520602e-01,\n",
              "       -4.80360004e-01, -1.74644399e+00, -1.55863528e+00, -1.71942524e+00,\n",
              "       -1.56406357e+00, -4.57714981e-01, -8.51568332e-01, -1.42156740e+00,\n",
              "       -1.54370715e+00, -1.44190993e+00, -1.64352902e+00, -1.85372704e+00,\n",
              "       -2.24274914e+00, -3.68429883e-02, -6.79690876e-01, -2.33296410e+00,\n",
              "       -1.76612183e+00, -1.70903664e+00, -2.33168718e-01, -1.77193637e+00,\n",
              "       -8.37304795e-02, -1.55521455e+00, -1.26855018e-01, -4.71770381e-01,\n",
              "       -1.75885759e-01, -1.70384478e+00, -1.37568511e+00, -1.79332439e+00,\n",
              "       -3.74983580e-01, -1.35165609e+00, -1.77734259e+00, -1.72399738e+00,\n",
              "       -5.02010447e-01, -3.55304337e-01, -1.77303630e+00, -1.56710935e+00,\n",
              "       -1.00298209e+00, -3.12129684e-01, -1.02570859e+00, -9.16148473e-01,\n",
              "       -1.90878556e+00, -2.05926629e+00, -1.62614073e+00, -6.31947044e-01,\n",
              "       -1.02189432e-01, -1.77315615e+00,  2.94946452e-03, -1.35098083e+00,\n",
              "       -1.64399335e+00, -1.75468065e+00, -7.93147866e-01, -1.56417131e+00,\n",
              "       -1.70733493e+00, -1.70245976e+00, -4.54899318e-01, -1.66708651e+00,\n",
              "       -1.41701708e+00, -2.13007425e+00, -1.16819925e+00, -1.66412918e+00,\n",
              "       -1.32476410e+00, -1.69184699e+00, -1.64386051e+00, -1.79475452e+00,\n",
              "       -3.49037496e-02, -3.76831635e-01, -1.54288515e+00, -4.54797563e-01,\n",
              "       -1.73336306e-01, -1.67891444e+00, -1.43646989e+00, -1.82626543e+00,\n",
              "       -1.31994209e+00, -1.73477603e+00, -1.55318802e+00, -1.30117126e+00,\n",
              "        3.02506565e-02, -3.23450772e-01, -1.71663519e+00, -1.62185670e+00,\n",
              "       -1.48160177e+00, -1.09667006e+00,  2.36006293e-02, -1.72569512e+00,\n",
              "       -1.86269981e+00, -2.04382041e+00, -5.45724737e-01, -3.16262867e-01,\n",
              "       -1.05029430e+00, -1.69002042e+00, -1.44862587e+00, -1.89507236e+00,\n",
              "       -1.41400800e+00, -2.54972021e-01, -1.48215752e+00, -1.98688904e+00,\n",
              "       -1.29518844e+00, -1.84975097e+00, -1.63406129e+00, -1.38601363e+00,\n",
              "       -2.10399324e+00, -1.69595710e+00, -1.64647792e+00, -2.11263477e+00,\n",
              "       -1.60775025e-01, -1.50126782e+00, -1.46902498e+00, -2.01287315e+00,\n",
              "       -2.18567773e+00, -1.49021394e+00, -1.88190939e+00, -1.41663803e+00,\n",
              "       -3.45881971e-02, -1.70611978e+00, -1.58237394e+00, -1.56979831e+00])"
            ]
          },
          "metadata": {},
          "execution_count": 95
        }
      ]
    },
    {
      "cell_type": "code",
      "source": [
        "densities=gm.score_samples(x)\n",
        "density_threshold=np.percentile(densities,4)\n",
        "anomalies=x[densities<density_threshold]"
      ],
      "metadata": {
        "id": "YAjb1qNZ1re0"
      },
      "execution_count": null,
      "outputs": []
    },
    {
      "cell_type": "code",
      "source": [
        "gm.bic(x)"
      ],
      "metadata": {
        "colab": {
          "base_uri": "https://localhost:8080/"
        },
        "id": "HzLzmAki1rhW",
        "outputId": "03668ada-c191-4bfd-b6e6-fc1cbd4fdb86"
      },
      "execution_count": null,
      "outputs": [
        {
          "output_type": "execute_result",
          "data": {
            "text/plain": [
              "np.float64(2771.115138509054)"
            ]
          },
          "metadata": {},
          "execution_count": 97
        }
      ]
    },
    {
      "cell_type": "code",
      "source": [
        "gm.aic(x)"
      ],
      "metadata": {
        "colab": {
          "base_uri": "https://localhost:8080/"
        },
        "id": "MK3WhwBX1rjZ",
        "outputId": "a9e99d8d-cb25-4f97-d2ea-6da369e3ef73"
      },
      "execution_count": null,
      "outputs": [
        {
          "output_type": "execute_result",
          "data": {
            "text/plain": [
              "np.float64(2687.6832987663574)"
            ]
          },
          "metadata": {},
          "execution_count": 98
        }
      ]
    },
    {
      "cell_type": "code",
      "source": [
        "from sklearn.mixture import BayesianGaussianMixture\n",
        "bgm=BayesianGaussianMixture(n_components=10,n_init=10)\n",
        "bgm.fit(x)\n",
        "np.round(bgm.weights_,2)"
      ],
      "metadata": {
        "colab": {
          "base_uri": "https://localhost:8080/"
        },
        "id": "7FLr-oDp1rnT",
        "outputId": "9b0d41e4-b287-47db-f7d2-ca8b83ce28e6"
      },
      "execution_count": null,
      "outputs": [
        {
          "output_type": "stream",
          "name": "stderr",
          "text": [
            "/usr/local/lib/python3.12/dist-packages/sklearn/mixture/_base.py:269: ConvergenceWarning: Best performing initialization did not converge. Try different init parameters, or increase max_iter, tol, or check for degenerate data.\n",
            "  warnings.warn(\n"
          ]
        },
        {
          "output_type": "execute_result",
          "data": {
            "text/plain": [
              "array([0.13, 0.1 , 0.15, 0.13, 0.11, 0.14, 0.16, 0.08, 0.  , 0.  ])"
            ]
          },
          "metadata": {},
          "execution_count": 99
        }
      ]
    }
  ]
}