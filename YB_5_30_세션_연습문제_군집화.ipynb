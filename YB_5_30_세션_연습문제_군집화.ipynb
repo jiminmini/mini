{
  "nbformat": 4,
  "nbformat_minor": 0,
  "metadata": {
    "colab": {
      "provenance": [],
      "include_colab_link": true
    },
    "kernelspec": {
      "name": "python3",
      "display_name": "Python 3"
    },
    "language_info": {
      "name": "python"
    }
  },
  "cells": [
    {
      "cell_type": "markdown",
      "metadata": {
        "id": "view-in-github",
        "colab_type": "text"
      },
      "source": [
        "<a href=\"https://colab.research.google.com/github/jiminmini/mini/blob/main/YB_5_30_%EC%84%B8%EC%85%98_%EC%97%B0%EC%8A%B5%EB%AC%B8%EC%A0%9C_%EA%B5%B0%EC%A7%91%ED%99%94.ipynb\" target=\"_parent\"><img src=\"https://colab.research.google.com/assets/colab-badge.svg\" alt=\"Open In Colab\"/></a>"
      ]
    },
    {
      "cell_type": "markdown",
      "metadata": {
        "id": "c1FcvJ0YgJin"
      },
      "source": [
        "# **kMeans 알고리즘을 적용하여 확인적 군집분석을 수행하시오.**\n",
        ">변수 설명 ) tot_price : 총구매액, buy_count : 구매횟수,\n",
        "                   visit_count : 매장방문횟수, avg_price : 평균구매액"
      ]
    },
    {
      "cell_type": "code",
      "metadata": {
        "id": "e0Bt7MHIgK_P"
      },
      "source": [
        "#필요한 모듈 불러오기\n",
        "import pandas as pd\n",
        "from sklearn.cluster import KMeans\n",
        "import matplotlib.pyplot as plt\n",
        "from sklearn.decomposition import PCA\n",
        "from sklearn.metrics import silhouette_samples, silhouette_score"
      ],
      "execution_count": 1,
      "outputs": []
    },
    {
      "cell_type": "markdown",
      "metadata": {
        "id": "CwK2SgWXgTO5"
      },
      "source": [
        "## 1) 데이터 불러오기 및 탐색"
      ]
    },
    {
      "cell_type": "code",
      "metadata": {
        "id": "QCwXOdIygPKf",
        "colab": {
          "base_uri": "https://localhost:8080/"
        },
        "outputId": "cb75bd89-1ad6-4878-f9b0-3b412873077f"
      },
      "source": [
        "sales = pd.read_csv(\"product_sales.csv\")\n",
        "print(sales.info())"
      ],
      "execution_count": 4,
      "outputs": [
        {
          "output_type": "stream",
          "name": "stdout",
          "text": [
            "<class 'pandas.core.frame.DataFrame'>\n",
            "RangeIndex: 150 entries, 0 to 149\n",
            "Data columns (total 4 columns):\n",
            " #   Column       Non-Null Count  Dtype  \n",
            "---  ------       --------------  -----  \n",
            " 0   tot_price    150 non-null    float64\n",
            " 1   visit_count  150 non-null    float64\n",
            " 2   buy_count    150 non-null    float64\n",
            " 3   avg_price    150 non-null    float64\n",
            "dtypes: float64(4)\n",
            "memory usage: 4.8 KB\n",
            "None\n"
          ]
        }
      ]
    },
    {
      "cell_type": "code",
      "metadata": {
        "id": "PRs1pZdAgfcb",
        "colab": {
          "base_uri": "https://localhost:8080/"
        },
        "outputId": "4ff10fb4-c75f-45d6-f03f-e2e10c8b3aa5"
      },
      "source": [
        "print(sales.shape)\n",
        "print(type(sales))"
      ],
      "execution_count": 5,
      "outputs": [
        {
          "output_type": "stream",
          "name": "stdout",
          "text": [
            "(150, 4)\n",
            "<class 'pandas.core.frame.DataFrame'>\n"
          ]
        }
      ]
    },
    {
      "cell_type": "markdown",
      "metadata": {
        "id": "YfG1wuHTgpRG"
      },
      "source": [
        "## 2) KMeans 를 이용하여 3개의 군집으로 군집화"
      ]
    },
    {
      "cell_type": "markdown",
      "metadata": {
        "id": "lImpKmE_homZ"
      },
      "source": [
        "2-1) KMeans 모델을 생성하세요. 군집은 3개로 군집화하세요."
      ]
    },
    {
      "cell_type": "code",
      "metadata": {
        "id": "icgsSQ3Zgi_9",
        "colab": {
          "base_uri": "https://localhost:8080/"
        },
        "outputId": "dff4846f-0948-466a-deeb-30afb359f92e"
      },
      "source": [
        "#모델 생성\n",
        "from sklearn.cluster import KMeans\n",
        "import pandas as pd\n",
        "\n",
        "# 예시: 데이터프레임 df가 있다고 가정\n",
        "# df = pd.read_csv('your_data.csv')  # 데이터 불러오기\n",
        "\n",
        "# 특징 변수(X) 선택 - 예: df에서 수치형 변수만 사용\n",
        "X = sales.select_dtypes(include=['float64', 'int64'])\n",
        "\n",
        "# KMeans 모델 생성 (군집 수 = 3)\n",
        "kmeans = KMeans(n_clusters=3, random_state=42)\n",
        "\n",
        "# 모델 학습\n",
        "kmeans.fit(X)\n",
        "\n",
        "# 군집 레이블 저장\n",
        "sales['cluster'] = kmeans.labels_\n",
        "\n",
        "# 군집화 결과 확인\n",
        "print(sales['cluster'].value_counts())\n"
      ],
      "execution_count": 6,
      "outputs": [
        {
          "output_type": "stream",
          "name": "stdout",
          "text": [
            "cluster\n",
            "0    61\n",
            "1    50\n",
            "2    39\n",
            "Name: count, dtype: int64\n"
          ]
        }
      ]
    },
    {
      "cell_type": "markdown",
      "metadata": {
        "id": "2OIP8gnyhxia"
      },
      "source": [
        "2-2) 모델을 훈련하고 예측치 생성하고 이 결과를 pred라는 변수에 저장하세요."
      ]
    },
    {
      "cell_type": "code",
      "metadata": {
        "id": "ebGU3AJyhWCn"
      },
      "source": [
        "# 모델 훈련 및 예측치 생성\n",
        "pred = kmeans.fit_predict(X)"
      ],
      "execution_count": 7,
      "outputs": []
    },
    {
      "cell_type": "markdown",
      "metadata": {
        "id": "Vs2umEnah6MX"
      },
      "source": [
        "2-3) 원형 데이터(scale)에 예측치(변수명:cluster)를 추가하세요."
      ]
    },
    {
      "cell_type": "code",
      "metadata": {
        "id": "2qF-jLKahfPe"
      },
      "source": [
        "# pred는 이전 단계에서 생성한 군집 예측 결과\n",
        "# scale은 스케일링된 데이터\n",
        "from sklearn.preprocessing import StandardScaler\n",
        "\n",
        "scaler = StandardScaler()\n",
        "scale = scaler.fit_transform(sales)\n",
        "\n",
        "# 예측 결과를 cluster라는 열로 추가\n",
        "import pandas as pd\n",
        "scale = pd.DataFrame(scale)\n",
        "scale['cluster'] = pred"
      ],
      "execution_count": 9,
      "outputs": []
    },
    {
      "cell_type": "markdown",
      "metadata": {
        "id": "_mmO5GpXiWPH"
      },
      "source": [
        "## 3) 군집화 시각화\n",
        ": 전체 데이터를 2차원으로 축소한 뒤 시각화하세요."
      ]
    },
    {
      "cell_type": "markdown",
      "metadata": {
        "id": "LysC2L9duAmP"
      },
      "source": [
        "3-1) cluster 변수를 제외한 sales 데이터를 salesDF라는 이름으로 변수에 저장하세요."
      ]
    },
    {
      "cell_type": "code",
      "metadata": {
        "id": "aZ58gQTVuTcr"
      },
      "source": [
        "#scale 데이터프레임에서 'cluster' 열을 제외하고 저장\n",
        "salesDF = scale.drop(columns=['cluster'])"
      ],
      "execution_count": 10,
      "outputs": []
    },
    {
      "cell_type": "markdown",
      "metadata": {
        "id": "7Qx6EpFuvJMz"
      },
      "source": [
        "3-2) salesDF 데이터를 이용하여 2차원으로 차원축소 한 후 그 결과를 sales에 pca_x, pca_y 이름으로 저장하세요."
      ]
    },
    {
      "cell_type": "code",
      "metadata": {
        "id": "HbdaFWKnlVhF"
      },
      "source": [
        "#차원 축소 한 후 변형된 값 임의의 변수에 저장\n",
        "from sklearn.decomposition import PCA\n",
        "\n",
        "# PCA 모델 생성 및 학습 (2차원으로 축소)\n",
        "pca = PCA(n_components=2)\n",
        "pca_result = pca.fit_transform(salesDF)\n",
        "\n",
        "#sales에 'pca_x', 'pca_y' 이름으로 열 만들어 저장\n",
        "sales = salesDF.copy()  # salesDF 복사해서 sales 생성\n",
        "sales['pca_x'] = pca_result[:, 0]\n",
        "sales['pca_y'] = pca_result[:, 1]"
      ],
      "execution_count": 11,
      "outputs": []
    },
    {
      "cell_type": "markdown",
      "metadata": {
        "id": "uSA4KaVcjELK"
      },
      "source": [
        "3-3) pca_x를 x축, pca_y를 y축으로 하여 산점도를 그리세요. 색으로 각 점이 군집에 따라 구분되도록 하세요. (단, 각 군집별로 마커 모양 구분하지 않고 오직 색으로만 구분합니다.)"
      ]
    },
    {
      "cell_type": "code",
      "metadata": {
        "id": "zi42IlfRjCNP",
        "colab": {
          "base_uri": "https://localhost:8080/",
          "height": 564
        },
        "outputId": "57ffb8af-9bc7-4a46-d718-b20e7917af34"
      },
      "source": [
        "import seaborn as sns\n",
        "import matplotlib.pyplot as plt\n",
        "\n",
        "# cluster 변수가 scale에 있으므로 sales에 추가\n",
        "sales['cluster'] = scale['cluster']\n",
        "\n",
        "# 시각화\n",
        "plt.figure(figsize=(8, 6))\n",
        "sns.scatterplot(\n",
        "    data=sales,\n",
        "    x='pca_x', y='pca_y',\n",
        "    hue='cluster',\n",
        "    palette='viridis',\n",
        "    alpha=0.8\n",
        ")\n",
        "\n",
        "plt.title('PCA 2D Scatter Plot by Cluster')\n",
        "plt.xlabel('pca_x')\n",
        "plt.ylabel('pca_y')\n",
        "plt.legend(title='Cluster')\n",
        "plt.show()\n"
      ],
      "execution_count": 12,
      "outputs": [
        {
          "output_type": "display_data",
          "data": {
            "text/plain": [
              "<Figure size 800x600 with 1 Axes>"
            ],
            "image/png": "[encoded data removed]"
          },
          "metadata": {}
        }
      ]
    },
    {
      "cell_type": "markdown",
      "metadata": {
        "id": "ACFmY31zw701"
      },
      "source": [
        "## 4) 군집평가: 실루엣 계수 구하기"
      ]
    },
    {
      "cell_type": "code",
      "metadata": {
        "id": "aOVy3VRgxxo3"
      },
      "source": [
        "#시각화를 위하여 사용했던 차원 축소 관련 계수 삭제\n",
        "sales=sales.drop(['pca_x','pca_y'], axis=1)\n",
        "\n",
        "#cluster 행을 제외한 순수 데이터 sales_data로 저장\n",
        "sales_data=sales.drop('cluster', axis=1)"
      ],
      "execution_count": 13,
      "outputs": []
    },
    {
      "cell_type": "markdown",
      "metadata": {
        "id": "MbRL_ERnxKG4"
      },
      "source": [
        "4-1) sales의 모든 데이터에 실루엣 계수를 구하고 실루엣 계수 칼럼을 추가하세요."
      ]
    },
    {
      "cell_type": "code",
      "metadata": {
        "id": "WguqFEIGnevN",
        "colab": {
          "base_uri": "https://localhost:8080/"
        },
        "outputId": "4e551fca-2e2c-4bf3-a7c9-b7c1cd63160f"
      },
      "source": [
        "#sales의 모든 데이터에 실루엣 계수 구하기\n",
        "from sklearn.metrics import silhouette_samples\n",
        "\n",
        "# 각 샘플에 대한 실루엣 계수 계산\n",
        "silhouette_vals = silhouette_samples(sales_data, sales['cluster'])\n",
        "silhouette_vals"
      ],
      "execution_count": 16,
      "outputs": [
        {
          "output_type": "execute_result",
          "data": {
            "text/plain": [
              "array([0.5906485 , 0.65791059, 0.66106403, 0.57094878, 0.66039908,\n",
              "       0.64012226, 0.49261076, 0.52962503, 0.48095931, 0.64574224,\n",
              "       0.66623414, 0.61242535, 0.64574224, 0.58677025, 0.67577695,\n",
              "       0.67348844, 0.27164824, 0.63344799, 0.61000602, 0.58006245,\n",
              "       0.60019683, 0.61151571, 0.65901557, 0.62187527, 0.68016547,\n",
              "       0.54449989, 0.52335818, 0.58104536, 0.58954032, 0.61271393,\n",
              "       0.69639737, 0.61233899, 0.37485538, 0.57893233, 0.57890707,\n",
              "       0.37153628, 0.67295443, 0.55084274, 0.68237192, 0.59663333,\n",
              "       0.49893032, 0.65072887, 0.63421451, 0.64644559, 0.61285163,\n",
              "       0.53691986, 0.69057173, 0.61222503, 0.64666885, 0.63596047,\n",
              "       0.56100795, 0.51784102, 0.62691376, 0.6937751 , 0.57122334,\n",
              "       0.57442442, 0.54530794, 0.66799025, 0.66257139, 0.60867416,\n",
              "       0.46443187, 0.48348736, 0.57997654, 0.61202006, 0.63468038,\n",
              "       0.64993916, 0.66086958, 0.66962269, 0.39546229, 0.67870709,\n",
              "       0.61641886, 0.66902506, 0.67483834, 0.2777735 , 0.68206341,\n",
              "       0.60687124, 0.62041273, 0.70201113, 0.58686938, 0.67909163,\n",
              "       0.62795718, 0.53919291, 0.64004346, 0.48291288, 0.58504989,\n",
              "       0.65373394, 0.5384144 , 0.70888127, 0.58178946, 0.47293389,\n",
              "       0.6493962 , 0.64871212, 0.50959168, 0.52009453, 0.55839737,\n",
              "       0.70632035, 0.46672905, 0.57746234, 0.60407312, 0.68447239,\n",
              "       0.66743991, 0.6269467 , 0.59882334, 0.60626447, 0.63455455,\n",
              "       0.62020144, 0.49346166, 0.60512275, 0.63184372, 0.34360417,\n",
              "       0.61981777, 0.59597473, 0.63442722, 0.6137972 , 0.71328815,\n",
              "       0.69380607, 0.68896975, 0.62041273, 0.70436926, 0.66100803,\n",
              "       0.68147769, 0.55259626, 0.66123296, 0.57457341, 0.59982199,\n",
              "       0.67347073, 0.60827012, 0.66887398, 0.63422914, 0.13509101,\n",
              "       0.54247949, 0.66105227, 0.68300829, 0.54605737, 0.15064225,\n",
              "       0.6083297 , 0.67862507, 0.61462876, 0.58042835, 0.49228079,\n",
              "       0.39829439, 0.55514186, 0.10786625, 0.52210723, 0.60918868,\n",
              "       0.61673302, 0.08045239, 0.64515355, 0.61259591, 0.65999564])"
            ]
          },
          "metadata": {},
          "execution_count": 16
        }
      ]
    },
    {
      "cell_type": "code",
      "metadata": {
        "id": "UtKeaL-kxiiR"
      },
      "source": [
        "#sales에 실루엣 계수 칼럼 추가\n",
        "sales['silhouette'] = silhouette_vals"
      ],
      "execution_count": 17,
      "outputs": []
    },
    {
      "cell_type": "markdown",
      "metadata": {
        "id": "Unt23NAhyl0W"
      },
      "source": [
        "4-2) 모든 데이터의 평균 실루엣 계수를 구하세요."
      ]
    },
    {
      "cell_type": "code",
      "metadata": {
        "id": "J51Ao9TiyjpN",
        "colab": {
          "base_uri": "https://localhost:8080/"
        },
        "outputId": "cb849843-2d68-4135-ed77-be5f5e4885e6"
      },
      "source": [
        "#모든 데이터의 평균 실루엣 계수 값을 구하기\n",
        "avg_silhouette = sales['silhouette'].mean()\n",
        "\n",
        "# 결과 출력\n",
        "print(\"전체 데이터의 평균 실루엣 계수:\", round(avg_silhouette, 4))\n"
      ],
      "execution_count": 18,
      "outputs": [
        {
          "output_type": "stream",
          "name": "stdout",
          "text": [
            "전체 데이터의 평균 실루엣 계수: 0.587\n"
          ]
        }
      ]
    },
    {
      "cell_type": "markdown",
      "metadata": {
        "id": "YovPBxuXyxUQ"
      },
      "source": [
        "4-3) 군집별 평균 실루엣 계수를 구하세요."
      ]
    },
    {
      "cell_type": "code",
      "metadata": {
        "id": "XW6o-x1YysJd",
        "colab": {
          "base_uri": "https://localhost:8080/"
        },
        "outputId": "aaf8cf57-83c0-4a6a-c370-1c237dbc568b"
      },
      "source": [
        "#군집별 평균 실루엣 계수 구하기\n",
        "cluster_silhouette_means = sales.groupby('cluster')['silhouette'].mean()\n",
        "\n",
        "# 출력\n",
        "print(\"군집별 평균 실루엣 계수:\")\n",
        "print(cluster_silhouette_means.round(4))"
      ],
      "execution_count": 19,
      "outputs": [
        {
          "output_type": "stream",
          "name": "stdout",
          "text": [
            "군집별 평균 실루엣 계수:\n",
            "cluster\n",
            "0    0.5877\n",
            "1    0.5629\n",
            "2    0.6169\n",
            "Name: silhouette, dtype: float64\n"
          ]
        }
      ]
    }
  ]
}