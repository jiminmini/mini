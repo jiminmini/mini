{
  "nbformat": 4,
  "nbformat_minor": 0,
  "metadata": {
    "colab": {
      "provenance": [],
      "authorship_tag": "ABX9TyNGggjhXFBq0i96iT/X+tjO",
      "include_colab_link": true
    },
    "kernelspec": {
      "name": "python3",
      "display_name": "Python 3"
    },
    "language_info": {
      "name": "python"
    }
  },
  "cells": [
    {
      "cell_type": "markdown",
      "metadata": {
        "id": "view-in-github",
        "colab_type": "text"
      },
      "source": [
        "<a href=\"https://colab.research.google.com/github/jiminmini/mini/blob/main/Untitled32.ipynb\" target=\"_parent\"><img src=\"https://colab.research.google.com/assets/colab-badge.svg\" alt=\"Open In Colab\"/></a>"
      ]
    },
    {
      "cell_type": "code",
      "execution_count": 1,
      "metadata": {
        "colab": {
          "base_uri": "https://localhost:8080/"
        },
        "id": "_i_2pN4kBwr7",
        "outputId": "8b8acaf2-252d-4b4e-f2db-cf2f7d80dce3"
      },
      "outputs": [
        {
          "output_type": "stream",
          "name": "stdout",
          "text": [
            "Requirement already satisfied: gemini-cli in /usr/local/lib/python3.11/dist-packages (0.2.5)\n",
            "Requirement already satisfied: google-generativeai<0.4.0,>=0.3.2 in /usr/local/lib/python3.11/dist-packages (from gemini-cli) (0.3.2)\n",
            "Requirement already satisfied: rich<14.0.0,>=13.7.0 in /usr/local/lib/python3.11/dist-packages (from gemini-cli) (13.9.4)\n",
            "Requirement already satisfied: toml<0.11.0,>=0.10.2 in /usr/local/lib/python3.11/dist-packages (from gemini-cli) (0.10.2)\n",
            "Requirement already satisfied: google-ai-generativelanguage==0.4.0 in /usr/local/lib/python3.11/dist-packages (from google-generativeai<0.4.0,>=0.3.2->gemini-cli) (0.4.0)\n",
            "Requirement already satisfied: google-auth in /usr/local/lib/python3.11/dist-packages (from google-generativeai<0.4.0,>=0.3.2->gemini-cli) (2.38.0)\n",
            "Requirement already satisfied: google-api-core in /usr/local/lib/python3.11/dist-packages (from google-generativeai<0.4.0,>=0.3.2->gemini-cli) (2.25.1)\n",
            "Requirement already satisfied: typing-extensions in /usr/local/lib/python3.11/dist-packages (from google-generativeai<0.4.0,>=0.3.2->gemini-cli) (4.14.1)\n",
            "Requirement already satisfied: protobuf in /usr/local/lib/python3.11/dist-packages (from google-generativeai<0.4.0,>=0.3.2->gemini-cli) (4.25.8)\n",
            "Requirement already satisfied: tqdm in /usr/local/lib/python3.11/dist-packages (from google-generativeai<0.4.0,>=0.3.2->gemini-cli) (4.67.1)\n",
            "Requirement already satisfied: proto-plus<2.0.0dev,>=1.22.3 in /usr/local/lib/python3.11/dist-packages (from google-ai-generativelanguage==0.4.0->google-generativeai<0.4.0,>=0.3.2->gemini-cli) (1.26.1)\n",
            "Requirement already satisfied: googleapis-common-protos<2.0.0,>=1.56.2 in /usr/local/lib/python3.11/dist-packages (from google-api-core->google-generativeai<0.4.0,>=0.3.2->gemini-cli) (1.70.0)\n",
            "Requirement already satisfied: requests<3.0.0,>=2.18.0 in /usr/local/lib/python3.11/dist-packages (from google-api-core->google-generativeai<0.4.0,>=0.3.2->gemini-cli) (2.32.3)\n",
            "Requirement already satisfied: grpcio<2.0.0,>=1.33.2 in /usr/local/lib/python3.11/dist-packages (from google-api-core[grpc]!=2.0.*,!=2.1.*,!=2.10.*,!=2.2.*,!=2.3.*,!=2.4.*,!=2.5.*,!=2.6.*,!=2.7.*,!=2.8.*,!=2.9.*,<3.0.0dev,>=1.34.0->google-ai-generativelanguage==0.4.0->google-generativeai<0.4.0,>=0.3.2->gemini-cli) (1.74.0)\n",
            "Requirement already satisfied: grpcio-status<2.0.0,>=1.33.2 in /usr/local/lib/python3.11/dist-packages (from google-api-core[grpc]!=2.0.*,!=2.1.*,!=2.10.*,!=2.2.*,!=2.3.*,!=2.4.*,!=2.5.*,!=2.6.*,!=2.7.*,!=2.8.*,!=2.9.*,<3.0.0dev,>=1.34.0->google-ai-generativelanguage==0.4.0->google-generativeai<0.4.0,>=0.3.2->gemini-cli) (1.62.3)\n",
            "Requirement already satisfied: cachetools<6.0,>=2.0.0 in /usr/local/lib/python3.11/dist-packages (from google-auth->google-generativeai<0.4.0,>=0.3.2->gemini-cli) (5.5.2)\n",
            "Requirement already satisfied: pyasn1-modules>=0.2.1 in /usr/local/lib/python3.11/dist-packages (from google-auth->google-generativeai<0.4.0,>=0.3.2->gemini-cli) (0.4.2)\n",
            "Requirement already satisfied: rsa<5,>=3.1.4 in /usr/local/lib/python3.11/dist-packages (from google-auth->google-generativeai<0.4.0,>=0.3.2->gemini-cli) (4.9.1)\n",
            "Requirement already satisfied: charset-normalizer<4,>=2 in /usr/local/lib/python3.11/dist-packages (from requests<3.0.0,>=2.18.0->google-api-core->google-generativeai<0.4.0,>=0.3.2->gemini-cli) (3.4.2)\n",
            "Requirement already satisfied: idna<4,>=2.5 in /usr/local/lib/python3.11/dist-packages (from requests<3.0.0,>=2.18.0->google-api-core->google-generativeai<0.4.0,>=0.3.2->gemini-cli) (3.10)\n",
            "Requirement already satisfied: urllib3<3,>=1.21.1 in /usr/local/lib/python3.11/dist-packages (from requests<3.0.0,>=2.18.0->google-api-core->google-generativeai<0.4.0,>=0.3.2->gemini-cli) (2.5.0)\n",
            "Requirement already satisfied: certifi>=2017.4.17 in /usr/local/lib/python3.11/dist-packages (from requests<3.0.0,>=2.18.0->google-api-core->google-generativeai<0.4.0,>=0.3.2->gemini-cli) (2025.8.3)\n",
            "Requirement already satisfied: markdown-it-py>=2.2.0 in /usr/local/lib/python3.11/dist-packages (from rich<14.0.0,>=13.7.0->gemini-cli) (3.0.0)\n",
            "Requirement already satisfied: pygments<3.0.0,>=2.13.0 in /usr/local/lib/python3.11/dist-packages (from rich<14.0.0,>=13.7.0->gemini-cli) (2.19.2)\n",
            "Requirement already satisfied: pyasn1>=0.1.3 in /usr/local/lib/python3.11/dist-packages (from rsa<5,>=3.1.4->google-auth->google-generativeai<0.4.0,>=0.3.2->gemini-cli) (0.6.1)\n",
            "Requirement already satisfied: mdurl~=0.1 in /usr/local/lib/python3.11/dist-packages (from markdown-it-py>=2.2.0->rich<14.0.0,>=13.7.0->gemini-cli) (0.1.2)\n"
          ]
        }
      ],
      "source": [
        "pip install gemini-cli"
      ]
    },
    {
      "cell_type": "code",
      "source": [
        "!gemini-cli --help"
      ],
      "metadata": {
        "colab": {
          "base_uri": "https://localhost:8080/"
        },
        "id": "lqQ_SKnF-Dbz",
        "outputId": "37a6cb3f-3b7a-4eee-913a-2c271e3f50b2"
      },
      "execution_count": 2,
      "outputs": [
        {
          "output_type": "stream",
          "name": "stdout",
          "text": [
            "usage: gemini-cli [-h] [-t TOKEN] [-c CONTEXT] [-s CONTEXT] [-f CONFIG_FILE]\n",
            "                  [-v] [--stream] [--markdown] [-n LIMIT]\n",
            "                  [prompt]\n",
            "\n",
            "Stream responses from Google Generative AI.\n",
            "\n",
            "positional arguments:\n",
            "  prompt                Prompt to send to the model\n",
            "\n",
            "options:\n",
            "  -h, --help            show this help message and exit\n",
            "  -t TOKEN, --token TOKEN\n",
            "                        API token for authentication\n",
            "  -c CONTEXT, --context CONTEXT\n",
            "                        context(context) prompt, optional\n",
            "  -s CONTEXT, --system CONTEXT\n",
            "                        Alias for --context.\n",
            "  -f CONFIG_FILE, --config-file CONFIG_FILE\n",
            "                        Path to the config file, use ~/.config/gemini-cli.toml\n",
            "                        by default.\n",
            "  -v, --verbose         Prompt string for the whale API\n",
            "  --stream              stream output\n",
            "  --markdown            output markdown format\n",
            "  -n LIMIT, --limit LIMIT\n",
            "                        limit prompt length\n"
          ]
        }
      ]
    },
    {
      "cell_type": "code",
      "source": [
        "import os\n",
        "os.environ[\"GEMINI_API_KEY\"] = \"발급받은_키_여기에_붙여넣기\""
      ],
      "metadata": {
        "id": "lp7vASCG-5bL"
      },
      "execution_count": 3,
      "outputs": []
    },
    {
      "cell_type": "code",
      "source": [
        "# 2. gemini-cli 명령어로 질문 보내기\n",
        "# 느낌표(!)는 코랩에서 터미널 명령 실행 의미입니다.\n",
        "!gemini -p \"안녕하세요, Gemini! 오늘 기분은 어떠신가요?\""
      ],
      "metadata": {
        "colab": {
          "base_uri": "https://localhost:8080/"
        },
        "id": "3zLDQpsRAWDE",
        "outputId": "40705ea9-fd25-4637-9e74-6ae78f5073e3"
      },
      "execution_count": 4,
      "outputs": [
        {
          "output_type": "stream",
          "name": "stdout",
          "text": [
            "[API Error: Cannot convert argument to a ByteString because the character at index 0 has a value of 48156 which is greater than 255.]\n"
          ]
        }
      ]
    },
    {
      "cell_type": "code",
      "source": [
        "!gemini -p \"Hello, Gemini! How are you today?\""
      ],
      "metadata": {
        "colab": {
          "base_uri": "https://localhost:8080/"
        },
        "id": "NWbzBheOAyfh",
        "outputId": "632ece94-9fe3-4646-da85-e071240819aa"
      },
      "execution_count": 5,
      "outputs": [
        {
          "output_type": "stream",
          "name": "stdout",
          "text": [
            "[API Error: Cannot convert argument to a ByteString because the character at index 0 has a value of 48156 which is greater than 255.]\n"
          ]
        }
      ]
    },
    {
      "cell_type": "code",
      "source": [
        "import os\n",
        "print(os.environ.get(\"GEMINI_API_KEY\"))\n"
      ],
      "metadata": {
        "colab": {
          "base_uri": "https://localhost:8080/"
        },
        "id": "O5tSXItlA748",
        "outputId": "2bab3880-a151-4f8d-e631-6d0bc475736d"
      },
      "execution_count": 6,
      "outputs": [
        {
          "output_type": "stream",
          "name": "stdout",
          "text": [
            "발급받은_키_여기에_붙여넣기\n"
          ]
        }
      ]
    }
  ]
}