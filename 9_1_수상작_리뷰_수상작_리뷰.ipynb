{
  "nbformat": 4,
  "nbformat_minor": 0,
  "metadata": {
    "colab": {
      "provenance": [],
      "authorship_tag": "ABX9TyM7b6IYe+XtW4DUZjMWkgL8",
      "include_colab_link": true
    },
    "kernelspec": {
      "name": "python3",
      "display_name": "Python 3"
    },
    "language_info": {
      "name": "python"
    }
  },
  "cells": [
    {
      "cell_type": "markdown",
      "metadata": {
        "id": "view-in-github",
        "colab_type": "text"
      },
      "source": [
        "<a href=\"https://colab.research.google.com/github/jiminmini/mini/blob/main/9_1_%EC%88%98%EC%83%81%EC%9E%91_%EB%A6%AC%EB%B7%B0_%EC%88%98%EC%83%81%EC%9E%91_%EB%A6%AC%EB%B7%B0.ipynb\" target=\"_parent\"><img src=\"https://colab.research.google.com/assets/colab-badge.svg\" alt=\"Open In Colab\"/></a>"
      ]
    },
    {
      "cell_type": "markdown",
      "source": [
        "#**[주제 및 데이터]**\n",
        "**주제**: 고객의 신용 위험을 예측하여 대출 상환 가능성을 평가하는 모델 개발\n",
        "(https://www.kaggle.com/code/allegich/homecredit-2024-risk-model-eda-xgboost-upd)\n",
        "\n",
        "**데이터 설명**:\n",
        "\n",
        "- application_train.csv: 고객의 신청 정보\n",
        "\n",
        "- bureau.csv: 고객의 과거 대출 기록\n",
        "\n",
        "- previous_application.csv: 이전 대출 신청 내역\n",
        "\n",
        "- credit_card_balance.csv: 신용카드 잔액 정보\n",
        "\n",
        "- POS_CASH_balance.csv: POS 현금 잔액 정보\n",
        "\n",
        "- installments_payments.csv: 할부 상환 정보\n",
        "\n",
        "- target: 대출 상환 여부 (1: 상환, 0: 미상환)\n",
        "---\n",
        "\n",
        "\n",
        "#**[코드 리뷰]**\n",
        "**1. EDA (탐색적 데이터 분석)**\n",
        "\n",
        "- 데이터 로딩 및 결합: 여러 CSV 파일을 로드하고, 필요한 테이블을 병합하여 분석에 적합한 형태로 구성\n",
        "\n",
        "- 결측치 분석: 각 피처의 결측치 비율을 시각화하여, 결측치 처리 전략 수립\n",
        "\n",
        "- 피처 분포 시각화: 히스토그램, 박스플롯 등을 활용하여 주요 피처의 분포 및 이상치 탐색\n",
        "\n",
        "- 상관관계 분석: 피처 간 상관관계를 분석하여, 모델 학습에 중요한 피처 선정\n",
        "\n",
        "\n",
        "---\n",
        "\n",
        "\n",
        "**2. 전처리**\n",
        "- 결측치 처리: 결측치가 있는 피처는 평균값 또는 중앙값으로 대체\n",
        "\n",
        "- 범주형 변수 인코딩: Label Encoding 또는 One-Hot Encoding을 사용하여 범주형 변수를 수치형으로 변환\n",
        "\n",
        "- 이상치 처리: 이상치가 의심되는 데이터를 제거하거나 조정하여 모델 학습에 미치는 영향을 최소화\n",
        "\n",
        "- 파생 변수 생성: 기존 피처를 활용하여 새로운 파생 변수를 생성하여 모델의 예측력을 향상\n",
        "\n",
        "\n",
        "---\n",
        "\n",
        "\n",
        "\n",
        "**3. 모델링 (Modeling)**\n",
        "- 모델 선택: XGBoost를 사용하여 분류 모델을 구축\n",
        "\n",
        "- 하이퍼파라미터 튜닝: GridSearchCV 또는 RandomizedSearchCV를 사용하여 최적의 하이퍼파라미터 탐색\n",
        "\n",
        "- 교차 검증: KFold 또는 StratifiedKFold를 사용하여 모델의 일반화 성능 평가\n",
        "\n",
        "- 모델 평가: AUC (Area Under the Curve)를 주요 평가 지표로 사용하여 모델 성능 측정\n",
        "\n",
        "\n",
        "\n",
        "\n",
        "---\n",
        "\n",
        "\n",
        "\n",
        "\n",
        "#**[차별 점 및 배울 점]**\n",
        "\n",
        "✅ 차별 점\n",
        "\n",
        "- EDA의 철저한 수행: 데이터의 분포, 결측치, 이상치 등을 철저히 분석하여 데이터의 특성을 정확히 이해\n",
        "\n",
        "- 효율적인 전처리: 결측치 처리, 범주형 변수 인코딩, 파생 변수 생성 등 전처리 과정을 체계적으로 수행\n",
        "\n",
        "- 모델 해석 가능성 고려: XGBoost 모델의 피처 중요도를 분석하여, 모델의 예측 결과를 해석할 수 있는 기반 마련\n",
        "\n",
        "✨ 배울 점\n",
        "\n",
        "- 데이터 전처리의 중요성: 모델의 성능은 데이터 전처리 단계에서 결정되는 경우가 많으므로, 전처리 과정에 충분한 시간과 노력을 투자해야 함\n",
        "\n",
        "- 모델 해석의 필요성: 모델의 예측 결과를 해석할 수 있어야, 실제 비즈니스 문제에 적용 가능하며, 모델의 신뢰성을 높일 수 있음\n",
        "\n",
        "- 하이퍼파라미터 튜닝의 중요성: 하이퍼파라미터 튜닝을 통해 모델의 성능을 최적화할 수 있으며, GridSearchCV 또는 RandomizedSearchCV와 같은 기법을 활용할 수 있음\n"
      ],
      "metadata": {
        "id": "ebEjsysdoxVx"
      }
    }
  ]
}