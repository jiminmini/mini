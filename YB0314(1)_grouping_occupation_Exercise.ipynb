{
  "nbformat": 4,
  "nbformat_minor": 0,
  "metadata": {
    "kernelspec": {
      "display_name": "Python 2",
      "language": "python",
      "name": "python2"
    },
    "language_info": {
      "codemirror_mode": {
        "name": "ipython",
        "version": 2
      },
      "file_extension": ".py",
      "mimetype": "text/x-python",
      "name": "python",
      "nbconvert_exporter": "python",
      "pygments_lexer": "ipython2",
      "version": "2.7.11"
    },
    "colab": {
      "provenance": [],
      "include_colab_link": true
    }
  },
  "cells": [
    {
      "cell_type": "markdown",
      "metadata": {
        "id": "view-in-github",
        "colab_type": "text"
      },
      "source": [
        "<a href=\"https://colab.research.google.com/github/jiminmini/mini/blob/main/YB0314(1)_grouping_occupation_Exercise.ipynb\" target=\"_parent\"><img src=\"https://colab.research.google.com/assets/colab-badge.svg\" alt=\"Open In Colab\"/></a>"
      ]
    },
    {
      "cell_type": "markdown",
      "metadata": {
        "id": "RYQSB73_akvl"
      },
      "source": [
        "# Occupation"
      ]
    },
    {
      "cell_type": "markdown",
      "metadata": {
        "id": "Ez-pV6Jaakvs"
      },
      "source": [
        "### Introduction:\n",
        "\n",
        "Special thanks to: https://github.com/justmarkham for sharing the dataset and materials.\n",
        "\n",
        "### Step 1. Import the necessary libraries"
      ]
    },
    {
      "cell_type": "code",
      "metadata": {
        "id": "s-DFQmeNakvu"
      },
      "source": [
        "import pandas as pd"
      ],
      "execution_count": 1,
      "outputs": []
    },
    {
      "cell_type": "markdown",
      "metadata": {
        "id": "ShhIzySnakvw"
      },
      "source": [
        "### Step 2. Import the dataset from this [address](https://raw.githubusercontent.com/justmarkham/DAT8/master/data/u.user)."
      ]
    },
    {
      "cell_type": "markdown",
      "metadata": {
        "id": "03hsscjRakvx"
      },
      "source": [
        "### Step 3. Assign it to a variable called users."
      ]
    },
    {
      "cell_type": "code",
      "metadata": {
        "id": "5RdM7Sj-akvy",
        "colab": {
          "base_uri": "https://localhost:8080/"
        },
        "outputId": "5a1fba59-f111-4a4c-abe3-73f181fca6a2"
      },
      "source": [
        "users=pd.read_csv(\"https://raw.githubusercontent.com/justmarkham/DAT8/master/data/u.user\", sep=\"|\")\n",
        "print(users)"
      ],
      "execution_count": 7,
      "outputs": [
        {
          "output_type": "stream",
          "name": "stdout",
          "text": [
            "     user_id  age gender     occupation zip_code\n",
            "0          1   24      M     technician    85711\n",
            "1          2   53      F          other    94043\n",
            "2          3   23      M         writer    32067\n",
            "3          4   24      M     technician    43537\n",
            "4          5   33      F          other    15213\n",
            "..       ...  ...    ...            ...      ...\n",
            "938      939   26      F        student    33319\n",
            "939      940   32      M  administrator    02215\n",
            "940      941   20      M        student    97229\n",
            "941      942   48      F      librarian    78209\n",
            "942      943   22      M        student    77841\n",
            "\n",
            "[943 rows x 5 columns]\n"
          ]
        }
      ]
    },
    {
      "cell_type": "markdown",
      "metadata": {
        "id": "p4rTx11Sakvz"
      },
      "source": [
        "### Step 4. Discover what is the mean age per occupation"
      ]
    },
    {
      "cell_type": "code",
      "metadata": {
        "id": "PNUZKNafakv1",
        "colab": {
          "base_uri": "https://localhost:8080/"
        },
        "outputId": "e1bf3be7-ff18-4879-c374-d19a920373b2"
      },
      "source": [
        "mean_age_per_occupation = users.groupby(\"occupation\")[\"age\"].mean()\n",
        "print(mean_age_per_occupation)"
      ],
      "execution_count": 6,
      "outputs": [
        {
          "output_type": "stream",
          "name": "stdout",
          "text": [
            "occupation\n",
            "administrator    38.746835\n",
            "artist           31.392857\n",
            "doctor           43.571429\n",
            "educator         42.010526\n",
            "engineer         36.388060\n",
            "entertainment    29.222222\n",
            "executive        38.718750\n",
            "healthcare       41.562500\n",
            "homemaker        32.571429\n",
            "lawyer           36.750000\n",
            "librarian        40.000000\n",
            "marketing        37.615385\n",
            "none             26.555556\n",
            "other            34.523810\n",
            "programmer       33.121212\n",
            "retired          63.071429\n",
            "salesman         35.666667\n",
            "scientist        35.548387\n",
            "student          22.081633\n",
            "technician       33.148148\n",
            "writer           36.311111\n",
            "Name: age, dtype: float64\n"
          ]
        }
      ]
    },
    {
      "cell_type": "code",
      "source": [],
      "metadata": {
        "id": "EW3SFD1pFud7"
      },
      "execution_count": null,
      "outputs": []
    },
    {
      "cell_type": "markdown",
      "metadata": {
        "id": "b9Va6b3Qakv3"
      },
      "source": [
        "### Step 5. Discover the Male ratio per occupation and sort it from the most to the least"
      ]
    },
    {
      "cell_type": "code",
      "metadata": {
        "id": "xb3LjNPRakv5",
        "colab": {
          "base_uri": "https://localhost:8080/"
        },
        "outputId": "3002544d-5022-40c9-8f05-93795d74abd0"
      },
      "source": [
        "ratio_per_occupation_count=users.groupby(['occupation', 'gender']).size().unstack(fill_value=0)\n",
        "ratio_per_occupation_count['male ratio'] = ratio_per_occupation_count['M'] / (ratio_per_occupation_count['M'] + ratio_per_occupation_count['F'])\n",
        "\n",
        "male_ratio_per_occupation=ratio_per_occupation_count[['male ratio']]\n",
        "sorted_male_ratio = male_ratio_per_occupation.sort_values(by='male ratio',ascending=False)\n",
        "print(sorted_male_ratio)"
      ],
      "execution_count": 15,
      "outputs": [
        {
          "output_type": "stream",
          "name": "stdout",
          "text": [
            "gender         male ratio\n",
            "occupation               \n",
            "doctor           1.000000\n",
            "engineer         0.970149\n",
            "technician       0.962963\n",
            "retired          0.928571\n",
            "programmer       0.909091\n",
            "executive        0.906250\n",
            "scientist        0.903226\n",
            "entertainment    0.888889\n",
            "lawyer           0.833333\n",
            "salesman         0.750000\n",
            "educator         0.726316\n",
            "student          0.693878\n",
            "other            0.657143\n",
            "marketing        0.615385\n",
            "writer           0.577778\n",
            "none             0.555556\n",
            "administrator    0.544304\n",
            "artist           0.535714\n",
            "librarian        0.431373\n",
            "healthcare       0.312500\n",
            "homemaker        0.142857\n"
          ]
        }
      ]
    },
    {
      "cell_type": "markdown",
      "metadata": {
        "id": "V8iyNzOiakv6"
      },
      "source": [
        "### Step 6. For each occupation, calculate the minimum and maximum ages"
      ]
    },
    {
      "cell_type": "code",
      "metadata": {
        "id": "_XxSd_XWakv7",
        "colab": {
          "base_uri": "https://localhost:8080/"
        },
        "outputId": "00956e42-c014-4fdc-d852-2af916087c4a"
      },
      "source": [
        "occupation_min_max = users.groupby('occupation')['age'].agg(['min', 'max'])\n",
        "\n",
        "print(occupation_min_max)"
      ],
      "execution_count": 16,
      "outputs": [
        {
          "output_type": "stream",
          "name": "stdout",
          "text": [
            "               min  max\n",
            "occupation             \n",
            "administrator   21   70\n",
            "artist          19   48\n",
            "doctor          28   64\n",
            "educator        23   63\n",
            "engineer        22   70\n",
            "entertainment   15   50\n",
            "executive       22   69\n",
            "healthcare      22   62\n",
            "homemaker       20   50\n",
            "lawyer          21   53\n",
            "librarian       23   69\n",
            "marketing       24   55\n",
            "none            11   55\n",
            "other           13   64\n",
            "programmer      20   63\n",
            "retired         51   73\n",
            "salesman        18   66\n",
            "scientist       23   55\n",
            "student          7   42\n",
            "technician      21   55\n",
            "writer          18   60\n"
          ]
        }
      ]
    },
    {
      "cell_type": "markdown",
      "metadata": {
        "id": "IITVNpN_akv8"
      },
      "source": [
        "### Step 7. For each combination of occupation and gender, calculate the mean age"
      ]
    },
    {
      "cell_type": "code",
      "metadata": {
        "id": "xDKQPz57akv9",
        "colab": {
          "base_uri": "https://localhost:8080/"
        },
        "outputId": "da95aa00-56dc-4777-e6d3-eb6e6f9ccfb7"
      },
      "source": [
        "combination=users.groupby(['occupation', 'gender'])['age'].mean()\n",
        "print(combination)"
      ],
      "execution_count": 13,
      "outputs": [
        {
          "output_type": "stream",
          "name": "stdout",
          "text": [
            "occupation     gender\n",
            "administrator  F         40.638889\n",
            "               M         37.162791\n",
            "artist         F         30.307692\n",
            "               M         32.333333\n",
            "doctor         M         43.571429\n",
            "educator       F         39.115385\n",
            "               M         43.101449\n",
            "engineer       F         29.500000\n",
            "               M         36.600000\n",
            "entertainment  F         31.000000\n",
            "               M         29.000000\n",
            "executive      F         44.000000\n",
            "               M         38.172414\n",
            "healthcare     F         39.818182\n",
            "               M         45.400000\n",
            "homemaker      F         34.166667\n",
            "               M         23.000000\n",
            "lawyer         F         39.500000\n",
            "               M         36.200000\n",
            "librarian      F         40.000000\n",
            "               M         40.000000\n",
            "marketing      F         37.200000\n",
            "               M         37.875000\n",
            "none           F         36.500000\n",
            "               M         18.600000\n",
            "other          F         35.472222\n",
            "               M         34.028986\n",
            "programmer     F         32.166667\n",
            "               M         33.216667\n",
            "retired        F         70.000000\n",
            "               M         62.538462\n",
            "salesman       F         27.000000\n",
            "               M         38.555556\n",
            "scientist      F         28.333333\n",
            "               M         36.321429\n",
            "student        F         20.750000\n",
            "               M         22.669118\n",
            "technician     F         38.000000\n",
            "               M         32.961538\n",
            "writer         F         37.631579\n",
            "               M         35.346154\n",
            "Name: age, dtype: float64\n"
          ]
        }
      ]
    },
    {
      "cell_type": "markdown",
      "metadata": {
        "id": "6cfimN8Eakv-"
      },
      "source": [
        "### Step 8.  For each occupation present the percentage of women and men"
      ]
    },
    {
      "cell_type": "code",
      "metadata": {
        "id": "jCOC0CHGakv_",
        "colab": {
          "base_uri": "https://localhost:8080/"
        },
        "outputId": "c924533b-3eca-40ae-ac6e-c9a73cf807ec"
      },
      "source": [
        "occupation_gender_count=users.groupby(['occupation', 'gender']).size().unstack(fill_value=0)\n",
        "\n",
        "occupation_gender_count['F ratio'] = occupation_gender_count['F'] / (occupation_gender_count['M'] + occupation_gender_count['F'])\n",
        "occupation_gender_count['M ratio'] = occupation_gender_count['M'] / (occupation_gender_count['M'] + occupation_gender_count['F'])\n",
        "\n",
        "print(occupation_gender_count[['F ratio', 'M ratio']])"
      ],
      "execution_count": 14,
      "outputs": [
        {
          "output_type": "stream",
          "name": "stdout",
          "text": [
            "gender          F ratio   M ratio\n",
            "occupation                       \n",
            "administrator  0.455696  0.544304\n",
            "artist         0.464286  0.535714\n",
            "doctor         0.000000  1.000000\n",
            "educator       0.273684  0.726316\n",
            "engineer       0.029851  0.970149\n",
            "entertainment  0.111111  0.888889\n",
            "executive      0.093750  0.906250\n",
            "healthcare     0.687500  0.312500\n",
            "homemaker      0.857143  0.142857\n",
            "lawyer         0.166667  0.833333\n",
            "librarian      0.568627  0.431373\n",
            "marketing      0.384615  0.615385\n",
            "none           0.444444  0.555556\n",
            "other          0.342857  0.657143\n",
            "programmer     0.090909  0.909091\n",
            "retired        0.071429  0.928571\n",
            "salesman       0.250000  0.750000\n",
            "scientist      0.096774  0.903226\n",
            "student        0.306122  0.693878\n",
            "technician     0.037037  0.962963\n",
            "writer         0.422222  0.577778\n"
          ]
        }
      ]
    }
  ]
}